{
 "cells": [
  {
   "cell_type": "markdown",
   "metadata": {},
   "source": [
    "# Starbucks Capstone Challenge\n",
    "\n",
    "### Introduction\n",
    "\n",
    "This data set contains simulated data that mimics customer behavior on the Starbucks rewards mobile app. Once every few days, Starbucks sends out an offer to users of the mobile app. An offer can be merely an advertisement for a drink or an actual offer such as a discount or BOGO (buy one get one free). Some users might not receive any offer during certain weeks. \n",
    "\n",
    "Not all users receive the same offer, and that is the challenge to solve with this data set.\n",
    "\n",
    "Your task is to combine transaction, demographic and offer data to determine which demographic groups respond best to which offer type. This data set is a simplified version of the real Starbucks app because the underlying simulator only has one product whereas Starbucks actually sells dozens of products.\n",
    "\n",
    "Every offer has a validity period before the offer expires. As an example, a BOGO offer might be valid for only 5 days. You'll see in the data set that informational offers have a validity period even though these ads are merely providing information about a product; for example, if an informational offer has 7 days of validity, you can assume the customer is feeling the influence of the offer for 7 days after receiving the advertisement.\n",
    "\n",
    "You'll be given transactional data showing user purchases made on the app including the timestamp of purchase and the amount of money spent on a purchase. This transactional data also has a record for each offer that a user receives as well as a record for when a user actually views the offer. There are also records for when a user completes an offer. \n",
    "\n",
    "Keep in mind as well that someone using the app might make a purchase through the app without having received an offer or seen an offer.\n",
    "\n",
    "### Example\n",
    "\n",
    "To give an example, a user could receive a discount offer buy 10 dollars get 2 off on Monday. The offer is valid for 10 days from receipt. If the customer accumulates at least 10 dollars in purchases during the validity period, the customer completes the offer.\n",
    "\n",
    "However, there are a few things to watch out for in this data set. Customers do not opt into the offers that they receive; in other words, a user can receive an offer, never actually view the offer, and still complete the offer. For example, a user might receive the \"buy 10 dollars get 2 dollars off offer\", but the user never opens the offer during the 10 day validity period. The customer spends 15 dollars during those ten days. There will be an offer completion record in the data set; however, the customer was not influenced by the offer because the customer never viewed the offer.\n",
    "\n",
    "### Cleaning\n",
    "\n",
    "This makes data cleaning especially important and tricky.\n",
    "\n",
    "You'll also want to take into account that some demographic groups will make purchases even if they don't receive an offer. From a business perspective, if a customer is going to make a 10 dollar purchase without an offer anyway, you wouldn't want to send a buy 10 dollars get 2 dollars off offer. You'll want to try to assess what a certain demographic group will buy when not receiving any offers.\n",
    "\n",
    "### Final Advice\n",
    "\n",
    "Because this is a capstone project, you are free to analyze the data any way you see fit. For example, you could build a machine learning model that predicts how much someone will spend based on demographics and offer type. Or you could build a model that predicts whether or not someone will respond to an offer. Or, you don't need to build a machine learning model at all. You could develop a set of heuristics that determine what offer you should send to each customer (i.e., 75 percent of women customers who were 35 years old responded to offer A vs 40 percent from the same demographic to offer B, so send offer A)."
   ]
  },
  {
   "cell_type": "markdown",
   "metadata": {},
   "source": [
    "# Data Sets\n",
    "\n",
    "The data is contained in three files:\n",
    "\n",
    "* portfolio.json - containing offer ids and meta data about each offer (duration, type, etc.)\n",
    "* profile.json - demographic data for each customer\n",
    "* transcript.json - records for transactions, offers received, offers viewed, and offers completed\n",
    "\n",
    "Here is the schema and explanation of each variable in the files:\n",
    "\n",
    "**portfolio.json**\n",
    "* id (string) - offer id\n",
    "* offer_type (string) - type of offer ie BOGO, discount, informational\n",
    "* difficulty (int) - minimum required spend to complete an offer\n",
    "* reward (int) - reward given for completing an offer\n",
    "* duration (int) - time for offer to be open, in days\n",
    "* channels (list of strings)\n",
    "\n",
    "**profile.json**\n",
    "* age (int) - age of the customer \n",
    "* became_member_on (int) - date when customer created an app account\n",
    "* gender (str) - gender of the customer (note some entries contain 'O' for other rather than M or F)\n",
    "* id (str) - customer id\n",
    "* income (float) - customer's income\n",
    "\n",
    "**transcript.json**\n",
    "* event (str) - record description (ie transaction, offer received, offer viewed, etc.)\n",
    "* person (str) - customer id\n",
    "* time (int) - time in hours since start of test. The data begins at time t=0\n",
    "* value - (dict of strings) - either an offer id or transaction amount depending on the record\n",
    "\n",
    "**Note:** If you are using the workspace, you will need to go to the terminal and run the command `conda update pandas` before reading in the files. This is because the version of pandas in the workspace cannot read in the transcript.json file correctly, but the newest version of pandas can. You can access the termnal from the orange icon in the top left of this notebook.  \n",
    "\n",
    "You can see how to access the terminal and how the install works using the two images below.  First you need to access the terminal:\n",
    "\n",
    "<img src=\"pic1.png\"/>\n",
    "\n",
    "Then you will want to run the above command:\n",
    "\n",
    "<img src=\"pic2.png\"/>\n",
    "\n",
    "Finally, when you enter back into the notebook (use the jupyter icon again), you should be able to run the below cell without any errors."
   ]
  },
  {
   "cell_type": "code",
   "execution_count": 1,
   "metadata": {},
   "outputs": [],
   "source": [
    "import pandas as pd\n",
    "import numpy as np\n",
    "import math\n",
    "import json\n",
    "import matplotlib.pyplot as plt\n",
    "import seaborn as sns\n",
    "% matplotlib inline\n",
    "\n",
    "# read in the json files\n",
    "portfolio = pd.read_json('data/portfolio.json', orient='records', lines=True)\n",
    "profile = pd.read_json('data/profile.json', orient='records', lines=True)\n",
    "transcript = pd.read_json('data/transcript.json', orient='records', lines=True)"
   ]
  },
  {
   "cell_type": "code",
   "execution_count": 2,
   "metadata": {},
   "outputs": [
    {
     "data": {
      "text/html": [
       "<div>\n",
       "<style scoped>\n",
       "    .dataframe tbody tr th:only-of-type {\n",
       "        vertical-align: middle;\n",
       "    }\n",
       "\n",
       "    .dataframe tbody tr th {\n",
       "        vertical-align: top;\n",
       "    }\n",
       "\n",
       "    .dataframe thead th {\n",
       "        text-align: right;\n",
       "    }\n",
       "</style>\n",
       "<table border=\"1\" class=\"dataframe\">\n",
       "  <thead>\n",
       "    <tr style=\"text-align: right;\">\n",
       "      <th></th>\n",
       "      <th>channels</th>\n",
       "      <th>difficulty</th>\n",
       "      <th>duration</th>\n",
       "      <th>id</th>\n",
       "      <th>offer_type</th>\n",
       "      <th>reward</th>\n",
       "    </tr>\n",
       "  </thead>\n",
       "  <tbody>\n",
       "    <tr>\n",
       "      <th>0</th>\n",
       "      <td>[email, mobile, social]</td>\n",
       "      <td>10</td>\n",
       "      <td>7</td>\n",
       "      <td>ae264e3637204a6fb9bb56bc8210ddfd</td>\n",
       "      <td>bogo</td>\n",
       "      <td>10</td>\n",
       "    </tr>\n",
       "    <tr>\n",
       "      <th>1</th>\n",
       "      <td>[web, email, mobile, social]</td>\n",
       "      <td>10</td>\n",
       "      <td>5</td>\n",
       "      <td>4d5c57ea9a6940dd891ad53e9dbe8da0</td>\n",
       "      <td>bogo</td>\n",
       "      <td>10</td>\n",
       "    </tr>\n",
       "    <tr>\n",
       "      <th>2</th>\n",
       "      <td>[web, email, mobile]</td>\n",
       "      <td>0</td>\n",
       "      <td>4</td>\n",
       "      <td>3f207df678b143eea3cee63160fa8bed</td>\n",
       "      <td>informational</td>\n",
       "      <td>0</td>\n",
       "    </tr>\n",
       "    <tr>\n",
       "      <th>3</th>\n",
       "      <td>[web, email, mobile]</td>\n",
       "      <td>5</td>\n",
       "      <td>7</td>\n",
       "      <td>9b98b8c7a33c4b65b9aebfe6a799e6d9</td>\n",
       "      <td>bogo</td>\n",
       "      <td>5</td>\n",
       "    </tr>\n",
       "    <tr>\n",
       "      <th>4</th>\n",
       "      <td>[web, email]</td>\n",
       "      <td>20</td>\n",
       "      <td>10</td>\n",
       "      <td>0b1e1539f2cc45b7b9fa7c272da2e1d7</td>\n",
       "      <td>discount</td>\n",
       "      <td>5</td>\n",
       "    </tr>\n",
       "  </tbody>\n",
       "</table>\n",
       "</div>"
      ],
      "text/plain": [
       "                       channels  difficulty  duration  \\\n",
       "0       [email, mobile, social]          10         7   \n",
       "1  [web, email, mobile, social]          10         5   \n",
       "2          [web, email, mobile]           0         4   \n",
       "3          [web, email, mobile]           5         7   \n",
       "4                  [web, email]          20        10   \n",
       "\n",
       "                                 id     offer_type  reward  \n",
       "0  ae264e3637204a6fb9bb56bc8210ddfd           bogo      10  \n",
       "1  4d5c57ea9a6940dd891ad53e9dbe8da0           bogo      10  \n",
       "2  3f207df678b143eea3cee63160fa8bed  informational       0  \n",
       "3  9b98b8c7a33c4b65b9aebfe6a799e6d9           bogo       5  \n",
       "4  0b1e1539f2cc45b7b9fa7c272da2e1d7       discount       5  "
      ]
     },
     "execution_count": 2,
     "metadata": {},
     "output_type": "execute_result"
    }
   ],
   "source": [
    "portfolio.head()"
   ]
  },
  {
   "cell_type": "code",
   "execution_count": 3,
   "metadata": {},
   "outputs": [
    {
     "name": "stdout",
     "output_type": "stream",
     "text": [
      "<class 'pandas.core.frame.DataFrame'>\n",
      "RangeIndex: 10 entries, 0 to 9\n",
      "Data columns (total 6 columns):\n",
      "channels      10 non-null object\n",
      "difficulty    10 non-null int64\n",
      "duration      10 non-null int64\n",
      "id            10 non-null object\n",
      "offer_type    10 non-null object\n",
      "reward        10 non-null int64\n",
      "dtypes: int64(3), object(3)\n",
      "memory usage: 560.0+ bytes\n"
     ]
    }
   ],
   "source": [
    "portfolio.info()"
   ]
  },
  {
   "cell_type": "code",
   "execution_count": 4,
   "metadata": {},
   "outputs": [
    {
     "name": "stdout",
     "output_type": "stream",
     "text": [
      "channels      0\n",
      "difficulty    0\n",
      "duration      0\n",
      "id            0\n",
      "offer_type    0\n",
      "reward        0\n",
      "dtype: int64\n"
     ]
    }
   ],
   "source": [
    "# Check for missing values\n",
    "print(portfolio.isnull().sum())"
   ]
  },
  {
   "cell_type": "code",
   "execution_count": 5,
   "metadata": {},
   "outputs": [],
   "source": [
    "# Convert 'channels' column to a set of dummy variables\n",
    "channels = portfolio['channels'].apply(lambda x: set(x))\n",
    "for channel in ['web', 'email', 'mobile', 'social']:\n",
    "    portfolio[channel] = channels.apply(lambda x: 1 if channel in x else 0)\n"
   ]
  },
  {
   "cell_type": "code",
   "execution_count": 6,
   "metadata": {},
   "outputs": [],
   "source": [
    "# Drop the original 'channels' column\n",
    "portfolio = portfolio.drop('channels', axis=1)"
   ]
  },
  {
   "cell_type": "code",
   "execution_count": 7,
   "metadata": {},
   "outputs": [],
   "source": [
    "# Ensure 'id' column is unique and set it as the index\n",
    "if not portfolio['id'].is_unique:\n",
    "    print(\"Warning: Non-unique values in 'id' column.\")\n",
    "portfolio = portfolio.set_index('id')"
   ]
  },
  {
   "cell_type": "code",
   "execution_count": 8,
   "metadata": {},
   "outputs": [
    {
     "data": {
      "text/html": [
       "<div>\n",
       "<style scoped>\n",
       "    .dataframe tbody tr th:only-of-type {\n",
       "        vertical-align: middle;\n",
       "    }\n",
       "\n",
       "    .dataframe tbody tr th {\n",
       "        vertical-align: top;\n",
       "    }\n",
       "\n",
       "    .dataframe thead th {\n",
       "        text-align: right;\n",
       "    }\n",
       "</style>\n",
       "<table border=\"1\" class=\"dataframe\">\n",
       "  <thead>\n",
       "    <tr style=\"text-align: right;\">\n",
       "      <th></th>\n",
       "      <th>difficulty</th>\n",
       "      <th>duration</th>\n",
       "      <th>offer_type</th>\n",
       "      <th>reward</th>\n",
       "      <th>web</th>\n",
       "      <th>email</th>\n",
       "      <th>mobile</th>\n",
       "      <th>social</th>\n",
       "    </tr>\n",
       "    <tr>\n",
       "      <th>id</th>\n",
       "      <th></th>\n",
       "      <th></th>\n",
       "      <th></th>\n",
       "      <th></th>\n",
       "      <th></th>\n",
       "      <th></th>\n",
       "      <th></th>\n",
       "      <th></th>\n",
       "    </tr>\n",
       "  </thead>\n",
       "  <tbody>\n",
       "    <tr>\n",
       "      <th>ae264e3637204a6fb9bb56bc8210ddfd</th>\n",
       "      <td>10</td>\n",
       "      <td>7</td>\n",
       "      <td>bogo</td>\n",
       "      <td>10</td>\n",
       "      <td>0</td>\n",
       "      <td>1</td>\n",
       "      <td>1</td>\n",
       "      <td>1</td>\n",
       "    </tr>\n",
       "    <tr>\n",
       "      <th>4d5c57ea9a6940dd891ad53e9dbe8da0</th>\n",
       "      <td>10</td>\n",
       "      <td>5</td>\n",
       "      <td>bogo</td>\n",
       "      <td>10</td>\n",
       "      <td>1</td>\n",
       "      <td>1</td>\n",
       "      <td>1</td>\n",
       "      <td>1</td>\n",
       "    </tr>\n",
       "    <tr>\n",
       "      <th>3f207df678b143eea3cee63160fa8bed</th>\n",
       "      <td>0</td>\n",
       "      <td>4</td>\n",
       "      <td>informational</td>\n",
       "      <td>0</td>\n",
       "      <td>1</td>\n",
       "      <td>1</td>\n",
       "      <td>1</td>\n",
       "      <td>0</td>\n",
       "    </tr>\n",
       "    <tr>\n",
       "      <th>9b98b8c7a33c4b65b9aebfe6a799e6d9</th>\n",
       "      <td>5</td>\n",
       "      <td>7</td>\n",
       "      <td>bogo</td>\n",
       "      <td>5</td>\n",
       "      <td>1</td>\n",
       "      <td>1</td>\n",
       "      <td>1</td>\n",
       "      <td>0</td>\n",
       "    </tr>\n",
       "    <tr>\n",
       "      <th>0b1e1539f2cc45b7b9fa7c272da2e1d7</th>\n",
       "      <td>20</td>\n",
       "      <td>10</td>\n",
       "      <td>discount</td>\n",
       "      <td>5</td>\n",
       "      <td>1</td>\n",
       "      <td>1</td>\n",
       "      <td>0</td>\n",
       "      <td>0</td>\n",
       "    </tr>\n",
       "  </tbody>\n",
       "</table>\n",
       "</div>"
      ],
      "text/plain": [
       "                                  difficulty  duration     offer_type  reward  \\\n",
       "id                                                                              \n",
       "ae264e3637204a6fb9bb56bc8210ddfd          10         7           bogo      10   \n",
       "4d5c57ea9a6940dd891ad53e9dbe8da0          10         5           bogo      10   \n",
       "3f207df678b143eea3cee63160fa8bed           0         4  informational       0   \n",
       "9b98b8c7a33c4b65b9aebfe6a799e6d9           5         7           bogo       5   \n",
       "0b1e1539f2cc45b7b9fa7c272da2e1d7          20        10       discount       5   \n",
       "\n",
       "                                  web  email  mobile  social  \n",
       "id                                                            \n",
       "ae264e3637204a6fb9bb56bc8210ddfd    0      1       1       1  \n",
       "4d5c57ea9a6940dd891ad53e9dbe8da0    1      1       1       1  \n",
       "3f207df678b143eea3cee63160fa8bed    1      1       1       0  \n",
       "9b98b8c7a33c4b65b9aebfe6a799e6d9    1      1       1       0  \n",
       "0b1e1539f2cc45b7b9fa7c272da2e1d7    1      1       0       0  "
      ]
     },
     "execution_count": 8,
     "metadata": {},
     "output_type": "execute_result"
    }
   ],
   "source": [
    "# Display the cleaned portfolio data\n",
    "portfolio.head()"
   ]
  },
  {
   "cell_type": "code",
   "execution_count": 9,
   "metadata": {},
   "outputs": [
    {
     "data": {
      "text/html": [
       "<div>\n",
       "<style scoped>\n",
       "    .dataframe tbody tr th:only-of-type {\n",
       "        vertical-align: middle;\n",
       "    }\n",
       "\n",
       "    .dataframe tbody tr th {\n",
       "        vertical-align: top;\n",
       "    }\n",
       "\n",
       "    .dataframe thead th {\n",
       "        text-align: right;\n",
       "    }\n",
       "</style>\n",
       "<table border=\"1\" class=\"dataframe\">\n",
       "  <thead>\n",
       "    <tr style=\"text-align: right;\">\n",
       "      <th></th>\n",
       "      <th>age</th>\n",
       "      <th>became_member_on</th>\n",
       "      <th>gender</th>\n",
       "      <th>id</th>\n",
       "      <th>income</th>\n",
       "    </tr>\n",
       "  </thead>\n",
       "  <tbody>\n",
       "    <tr>\n",
       "      <th>0</th>\n",
       "      <td>118</td>\n",
       "      <td>20170212</td>\n",
       "      <td>None</td>\n",
       "      <td>68be06ca386d4c31939f3a4f0e3dd783</td>\n",
       "      <td>NaN</td>\n",
       "    </tr>\n",
       "    <tr>\n",
       "      <th>1</th>\n",
       "      <td>55</td>\n",
       "      <td>20170715</td>\n",
       "      <td>F</td>\n",
       "      <td>0610b486422d4921ae7d2bf64640c50b</td>\n",
       "      <td>112000.0</td>\n",
       "    </tr>\n",
       "    <tr>\n",
       "      <th>2</th>\n",
       "      <td>118</td>\n",
       "      <td>20180712</td>\n",
       "      <td>None</td>\n",
       "      <td>38fe809add3b4fcf9315a9694bb96ff5</td>\n",
       "      <td>NaN</td>\n",
       "    </tr>\n",
       "    <tr>\n",
       "      <th>3</th>\n",
       "      <td>75</td>\n",
       "      <td>20170509</td>\n",
       "      <td>F</td>\n",
       "      <td>78afa995795e4d85b5d9ceeca43f5fef</td>\n",
       "      <td>100000.0</td>\n",
       "    </tr>\n",
       "    <tr>\n",
       "      <th>4</th>\n",
       "      <td>118</td>\n",
       "      <td>20170804</td>\n",
       "      <td>None</td>\n",
       "      <td>a03223e636434f42ac4c3df47e8bac43</td>\n",
       "      <td>NaN</td>\n",
       "    </tr>\n",
       "  </tbody>\n",
       "</table>\n",
       "</div>"
      ],
      "text/plain": [
       "   age  became_member_on gender                                id    income\n",
       "0  118          20170212   None  68be06ca386d4c31939f3a4f0e3dd783       NaN\n",
       "1   55          20170715      F  0610b486422d4921ae7d2bf64640c50b  112000.0\n",
       "2  118          20180712   None  38fe809add3b4fcf9315a9694bb96ff5       NaN\n",
       "3   75          20170509      F  78afa995795e4d85b5d9ceeca43f5fef  100000.0\n",
       "4  118          20170804   None  a03223e636434f42ac4c3df47e8bac43       NaN"
      ]
     },
     "execution_count": 9,
     "metadata": {},
     "output_type": "execute_result"
    }
   ],
   "source": [
    "profile.head()"
   ]
  },
  {
   "cell_type": "code",
   "execution_count": 10,
   "metadata": {},
   "outputs": [
    {
     "name": "stdout",
     "output_type": "stream",
     "text": [
      "age                    0\n",
      "became_member_on       0\n",
      "gender              2175\n",
      "id                     0\n",
      "income              2175\n",
      "dtype: int64\n"
     ]
    }
   ],
   "source": [
    "# Check for missing values\n",
    "print(profile.isnull().sum())\n"
   ]
  },
  {
   "cell_type": "code",
   "execution_count": 11,
   "metadata": {},
   "outputs": [
    {
     "data": {
      "text/html": [
       "<div>\n",
       "<style scoped>\n",
       "    .dataframe tbody tr th:only-of-type {\n",
       "        vertical-align: middle;\n",
       "    }\n",
       "\n",
       "    .dataframe tbody tr th {\n",
       "        vertical-align: top;\n",
       "    }\n",
       "\n",
       "    .dataframe thead th {\n",
       "        text-align: right;\n",
       "    }\n",
       "</style>\n",
       "<table border=\"1\" class=\"dataframe\">\n",
       "  <thead>\n",
       "    <tr style=\"text-align: right;\">\n",
       "      <th></th>\n",
       "      <th>age</th>\n",
       "      <th>became_member_on</th>\n",
       "      <th>gender</th>\n",
       "      <th>id</th>\n",
       "      <th>income</th>\n",
       "    </tr>\n",
       "  </thead>\n",
       "  <tbody>\n",
       "    <tr>\n",
       "      <th>0</th>\n",
       "      <td>118</td>\n",
       "      <td>20170212</td>\n",
       "      <td>None</td>\n",
       "      <td>68be06ca386d4c31939f3a4f0e3dd783</td>\n",
       "      <td>NaN</td>\n",
       "    </tr>\n",
       "    <tr>\n",
       "      <th>1</th>\n",
       "      <td>55</td>\n",
       "      <td>20170715</td>\n",
       "      <td>F</td>\n",
       "      <td>0610b486422d4921ae7d2bf64640c50b</td>\n",
       "      <td>112000.0</td>\n",
       "    </tr>\n",
       "    <tr>\n",
       "      <th>2</th>\n",
       "      <td>118</td>\n",
       "      <td>20180712</td>\n",
       "      <td>None</td>\n",
       "      <td>38fe809add3b4fcf9315a9694bb96ff5</td>\n",
       "      <td>NaN</td>\n",
       "    </tr>\n",
       "    <tr>\n",
       "      <th>3</th>\n",
       "      <td>75</td>\n",
       "      <td>20170509</td>\n",
       "      <td>F</td>\n",
       "      <td>78afa995795e4d85b5d9ceeca43f5fef</td>\n",
       "      <td>100000.0</td>\n",
       "    </tr>\n",
       "    <tr>\n",
       "      <th>4</th>\n",
       "      <td>118</td>\n",
       "      <td>20170804</td>\n",
       "      <td>None</td>\n",
       "      <td>a03223e636434f42ac4c3df47e8bac43</td>\n",
       "      <td>NaN</td>\n",
       "    </tr>\n",
       "  </tbody>\n",
       "</table>\n",
       "</div>"
      ],
      "text/plain": [
       "   age  became_member_on gender                                id    income\n",
       "0  118          20170212   None  68be06ca386d4c31939f3a4f0e3dd783       NaN\n",
       "1   55          20170715      F  0610b486422d4921ae7d2bf64640c50b  112000.0\n",
       "2  118          20180712   None  38fe809add3b4fcf9315a9694bb96ff5       NaN\n",
       "3   75          20170509      F  78afa995795e4d85b5d9ceeca43f5fef  100000.0\n",
       "4  118          20170804   None  a03223e636434f42ac4c3df47e8bac43       NaN"
      ]
     },
     "execution_count": 11,
     "metadata": {},
     "output_type": "execute_result"
    }
   ],
   "source": [
    "profile.head()"
   ]
  },
  {
   "cell_type": "code",
   "execution_count": 12,
   "metadata": {},
   "outputs": [],
   "source": [
    "# Convert 'became_member_on' to datetime format\n",
    "profile['became_member_on'] = pd.to_datetime(profile['became_member_on'], format='%Y%m%d')\n"
   ]
  },
  {
   "cell_type": "code",
   "execution_count": 13,
   "metadata": {},
   "outputs": [],
   "source": [
    "# Handle outliers or unrealistic values in 'age' and 'income'\n",
    "# For example, you might replace negative age values or income values that are too high or too low with NaN\n",
    "profile['age'] = profile['age'].apply(lambda x: x if 10 <= x <= 100 else None)\n",
    "profile['income'] = profile['income'].apply(lambda x: x if 0 <= x <= 1e6 else None)\n"
   ]
  },
  {
   "cell_type": "code",
   "execution_count": 14,
   "metadata": {},
   "outputs": [],
   "source": [
    "# Check for duplicate customer IDs\n",
    "if profile['id'].duplicated().any():\n",
    "    print(\"Warning: Duplicate values in 'id' column.\")"
   ]
  },
  {
   "cell_type": "code",
   "execution_count": 15,
   "metadata": {},
   "outputs": [],
   "source": [
    "# Set 'id' column as the index\n",
    "profile = profile.set_index('id')"
   ]
  },
  {
   "cell_type": "code",
   "execution_count": 16,
   "metadata": {},
   "outputs": [
    {
     "data": {
      "text/html": [
       "<div>\n",
       "<style scoped>\n",
       "    .dataframe tbody tr th:only-of-type {\n",
       "        vertical-align: middle;\n",
       "    }\n",
       "\n",
       "    .dataframe tbody tr th {\n",
       "        vertical-align: top;\n",
       "    }\n",
       "\n",
       "    .dataframe thead th {\n",
       "        text-align: right;\n",
       "    }\n",
       "</style>\n",
       "<table border=\"1\" class=\"dataframe\">\n",
       "  <thead>\n",
       "    <tr style=\"text-align: right;\">\n",
       "      <th></th>\n",
       "      <th>age</th>\n",
       "      <th>became_member_on</th>\n",
       "      <th>gender</th>\n",
       "      <th>income</th>\n",
       "    </tr>\n",
       "    <tr>\n",
       "      <th>id</th>\n",
       "      <th></th>\n",
       "      <th></th>\n",
       "      <th></th>\n",
       "      <th></th>\n",
       "    </tr>\n",
       "  </thead>\n",
       "  <tbody>\n",
       "    <tr>\n",
       "      <th>68be06ca386d4c31939f3a4f0e3dd783</th>\n",
       "      <td>NaN</td>\n",
       "      <td>2017-02-12</td>\n",
       "      <td>None</td>\n",
       "      <td>NaN</td>\n",
       "    </tr>\n",
       "    <tr>\n",
       "      <th>0610b486422d4921ae7d2bf64640c50b</th>\n",
       "      <td>55.0</td>\n",
       "      <td>2017-07-15</td>\n",
       "      <td>F</td>\n",
       "      <td>112000.0</td>\n",
       "    </tr>\n",
       "    <tr>\n",
       "      <th>38fe809add3b4fcf9315a9694bb96ff5</th>\n",
       "      <td>NaN</td>\n",
       "      <td>2018-07-12</td>\n",
       "      <td>None</td>\n",
       "      <td>NaN</td>\n",
       "    </tr>\n",
       "    <tr>\n",
       "      <th>78afa995795e4d85b5d9ceeca43f5fef</th>\n",
       "      <td>75.0</td>\n",
       "      <td>2017-05-09</td>\n",
       "      <td>F</td>\n",
       "      <td>100000.0</td>\n",
       "    </tr>\n",
       "    <tr>\n",
       "      <th>a03223e636434f42ac4c3df47e8bac43</th>\n",
       "      <td>NaN</td>\n",
       "      <td>2017-08-04</td>\n",
       "      <td>None</td>\n",
       "      <td>NaN</td>\n",
       "    </tr>\n",
       "  </tbody>\n",
       "</table>\n",
       "</div>"
      ],
      "text/plain": [
       "                                   age became_member_on gender    income\n",
       "id                                                                      \n",
       "68be06ca386d4c31939f3a4f0e3dd783   NaN       2017-02-12   None       NaN\n",
       "0610b486422d4921ae7d2bf64640c50b  55.0       2017-07-15      F  112000.0\n",
       "38fe809add3b4fcf9315a9694bb96ff5   NaN       2018-07-12   None       NaN\n",
       "78afa995795e4d85b5d9ceeca43f5fef  75.0       2017-05-09      F  100000.0\n",
       "a03223e636434f42ac4c3df47e8bac43   NaN       2017-08-04   None       NaN"
      ]
     },
     "execution_count": 16,
     "metadata": {},
     "output_type": "execute_result"
    }
   ],
   "source": [
    "# Display the cleaned profile data\n",
    "profile.head()"
   ]
  },
  {
   "cell_type": "code",
   "execution_count": 17,
   "metadata": {},
   "outputs": [
    {
     "name": "stdout",
     "output_type": "stream",
     "text": [
      "age                 2180\n",
      "became_member_on       0\n",
      "gender              2175\n",
      "income              2175\n",
      "dtype: int64\n"
     ]
    }
   ],
   "source": [
    "print(profile.isnull().sum())"
   ]
  },
  {
   "cell_type": "code",
   "execution_count": 18,
   "metadata": {},
   "outputs": [
    {
     "name": "stdout",
     "output_type": "stream",
     "text": [
      "event     0\n",
      "person    0\n",
      "time      0\n",
      "value     0\n",
      "dtype: int64\n"
     ]
    }
   ],
   "source": [
    "# Check for missing values\n",
    "print(transcript.isnull().sum())"
   ]
  },
  {
   "cell_type": "code",
   "execution_count": 19,
   "metadata": {},
   "outputs": [],
   "source": [
    "# Extract offer id and amount from the 'value' column\n",
    "transcript['offer_id'] = transcript['value'].apply(lambda x: x.get('offer id') if 'offer id' in x else x.get('offer_id') if 'offer_id' in x else None)\n",
    "transcript['amount'] = transcript['value'].apply(lambda x: x.get('amount') if 'amount' in x else None)\n"
   ]
  },
  {
   "cell_type": "code",
   "execution_count": 20,
   "metadata": {},
   "outputs": [],
   "source": [
    "# Drop the original 'value' column\n",
    "transcript = transcript.drop('value', axis=1)"
   ]
  },
  {
   "cell_type": "code",
   "execution_count": 21,
   "metadata": {},
   "outputs": [
    {
     "name": "stdout",
     "output_type": "stream",
     "text": [
      "Warning: Duplicate values in transcript data.\n"
     ]
    }
   ],
   "source": [
    "# Check for duplicate records\n",
    "if transcript.duplicated().any():\n",
    "    print(\"Warning: Duplicate values in transcript data.\")"
   ]
  },
  {
   "cell_type": "code",
   "execution_count": 22,
   "metadata": {},
   "outputs": [
    {
     "data": {
      "text/plain": [
       "True"
      ]
     },
     "execution_count": 22,
     "metadata": {},
     "output_type": "execute_result"
    }
   ],
   "source": [
    "transcript.duplicated().any()"
   ]
  },
  {
   "cell_type": "code",
   "execution_count": 23,
   "metadata": {},
   "outputs": [
    {
     "data": {
      "text/plain": [
       "397"
      ]
     },
     "execution_count": 23,
     "metadata": {},
     "output_type": "execute_result"
    }
   ],
   "source": [
    "transcript.duplicated().sum()"
   ]
  },
  {
   "cell_type": "code",
   "execution_count": 24,
   "metadata": {},
   "outputs": [
    {
     "name": "stdout",
     "output_type": "stream",
     "text": [
      "Duplicate Rows:\n",
      "                  event                            person  time  \\\n",
      "66122   offer completed  3dde94fa581145cb9f206624f1a94d5a   168   \n",
      "66123   offer completed  3dde94fa581145cb9f206624f1a94d5a   168   \n",
      "66782   offer completed  e9fb6ed2cecb4980ba98c86abc9c91e3   168   \n",
      "66783   offer completed  e9fb6ed2cecb4980ba98c86abc9c91e3   168   \n",
      "67613   offer completed  a7dc060f6fc94ca7bf71fbb188187dca   168   \n",
      "67614   offer completed  a7dc060f6fc94ca7bf71fbb188187dca   168   \n",
      "68561   offer completed  30478a4c1e884a63a822aa87b833ed7a   168   \n",
      "68562   offer completed  30478a4c1e884a63a822aa87b833ed7a   168   \n",
      "69217   offer completed  84fb57a7fe8045a8bf6236738ee73a0f   168   \n",
      "69218   offer completed  84fb57a7fe8045a8bf6236738ee73a0f   168   \n",
      "76756   offer completed  7cd890d4d691465aa25b683943a1c056   186   \n",
      "76757   offer completed  7cd890d4d691465aa25b683943a1c056   186   \n",
      "79436   offer completed  1abeb816d9fa49b4b5b5ae51bc3d24c3   198   \n",
      "79437   offer completed  1abeb816d9fa49b4b5b5ae51bc3d24c3   198   \n",
      "80367   offer completed  8327c7a472974fbb9569532a55c07204   198   \n",
      "80368   offer completed  8327c7a472974fbb9569532a55c07204   198   \n",
      "84297   offer completed  64819ea1d8b64913a80d8ea0b9f071c5   210   \n",
      "84298   offer completed  64819ea1d8b64913a80d8ea0b9f071c5   210   \n",
      "84777   offer completed  f5b1bf31e4484153a8d6ffbb312da4b7   210   \n",
      "84778   offer completed  f5b1bf31e4484153a8d6ffbb312da4b7   210   \n",
      "85776   offer completed  a50f496253874130a441e7292a63a4a5   216   \n",
      "85777   offer completed  a50f496253874130a441e7292a63a4a5   216   \n",
      "85864   offer completed  78d968c803724eb5812a988d5156f943   216   \n",
      "85865   offer completed  78d968c803724eb5812a988d5156f943   216   \n",
      "91622   offer completed  7f57c1760524405f8e23871c1d80694a   234   \n",
      "91623   offer completed  7f57c1760524405f8e23871c1d80694a   234   \n",
      "93590   offer completed  cd8a88670e404eef9d4edc3010dd84aa   240   \n",
      "93591   offer completed  cd8a88670e404eef9d4edc3010dd84aa   240   \n",
      "123575  offer completed  464d2302b99b46ad8eb3e42e1b849c24   336   \n",
      "123576  offer completed  464d2302b99b46ad8eb3e42e1b849c24   336   \n",
      "...                 ...                               ...   ...   \n",
      "292882  offer completed  73e1f6bb3fe04429bf3ffc04c89ff7f9   654   \n",
      "292883  offer completed  73e1f6bb3fe04429bf3ffc04c89ff7f9   654   \n",
      "293679  offer completed  157034648e3b422f8f7af11778bacb69   660   \n",
      "293680  offer completed  157034648e3b422f8f7af11778bacb69   660   \n",
      "294325  offer completed  0d0c8b66f0954686ad82e5eb8a61baf6   660   \n",
      "294326  offer completed  0d0c8b66f0954686ad82e5eb8a61baf6   660   \n",
      "294330  offer completed  0976fd3ecfb84e1ca92d90b6adc2001c   660   \n",
      "294331  offer completed  0976fd3ecfb84e1ca92d90b6adc2001c   660   \n",
      "294982  offer completed  1278a41a8ae24324a17ca2c69b3023ab   666   \n",
      "294983  offer completed  1278a41a8ae24324a17ca2c69b3023ab   666   \n",
      "295559  offer completed  9cd56cfd1feb4dc7851e8e5132ab45c2   666   \n",
      "295560  offer completed  9cd56cfd1feb4dc7851e8e5132ab45c2   666   \n",
      "295594  offer completed  a9bd819d62554b2896a0528040305ed3   666   \n",
      "295595  offer completed  a9bd819d62554b2896a0528040305ed3   666   \n",
      "296111  offer completed  6cde0dadd1154cf89694618ce6f249da   666   \n",
      "296112  offer completed  6cde0dadd1154cf89694618ce6f249da   666   \n",
      "296871  offer completed  819cb059e86f4a8a92beca0fd172d36c   672   \n",
      "296872  offer completed  819cb059e86f4a8a92beca0fd172d36c   672   \n",
      "297126  offer completed  9582c1eb7ef449f4863975513eef6cea   672   \n",
      "297127  offer completed  9582c1eb7ef449f4863975513eef6cea   672   \n",
      "297624  offer completed  6ba2450a438540999e633a5d99c7c7a0   672   \n",
      "297625  offer completed  6ba2450a438540999e633a5d99c7c7a0   672   \n",
      "299470  offer completed  f39fe7ea4e5946378e6d224504b77797   684   \n",
      "299471  offer completed  f39fe7ea4e5946378e6d224504b77797   684   \n",
      "304755  offer completed  0785f1fce0b04ba08e01c7d2ebab4917   708   \n",
      "304756  offer completed  0785f1fce0b04ba08e01c7d2ebab4917   708   \n",
      "305550  offer completed  b7e216b6472b46648272c29a52a86702   714   \n",
      "305551  offer completed  b7e216b6472b46648272c29a52a86702   714   \n",
      "306455  offer completed  f3e801caeafe4899b3b989b586e74ac7   714   \n",
      "306456  offer completed  f3e801caeafe4899b3b989b586e74ac7   714   \n",
      "\n",
      "                                offer_id  amount  \n",
      "66122   2906b810c7d4411798c6938adc9daaa5     NaN  \n",
      "66123   2906b810c7d4411798c6938adc9daaa5     NaN  \n",
      "66782   ae264e3637204a6fb9bb56bc8210ddfd     NaN  \n",
      "66783   ae264e3637204a6fb9bb56bc8210ddfd     NaN  \n",
      "67613   9b98b8c7a33c4b65b9aebfe6a799e6d9     NaN  \n",
      "67614   9b98b8c7a33c4b65b9aebfe6a799e6d9     NaN  \n",
      "68561   2298d6c36e964ae4a3e7e9706d1fb8c2     NaN  \n",
      "68562   2298d6c36e964ae4a3e7e9706d1fb8c2     NaN  \n",
      "69217   ae264e3637204a6fb9bb56bc8210ddfd     NaN  \n",
      "69218   ae264e3637204a6fb9bb56bc8210ddfd     NaN  \n",
      "76756   0b1e1539f2cc45b7b9fa7c272da2e1d7     NaN  \n",
      "76757   0b1e1539f2cc45b7b9fa7c272da2e1d7     NaN  \n",
      "79436   fafdcd668e3743c1bb461111dcafc2a4     NaN  \n",
      "79437   fafdcd668e3743c1bb461111dcafc2a4     NaN  \n",
      "80367   fafdcd668e3743c1bb461111dcafc2a4     NaN  \n",
      "80368   fafdcd668e3743c1bb461111dcafc2a4     NaN  \n",
      "84297   fafdcd668e3743c1bb461111dcafc2a4     NaN  \n",
      "84298   fafdcd668e3743c1bb461111dcafc2a4     NaN  \n",
      "84777   0b1e1539f2cc45b7b9fa7c272da2e1d7     NaN  \n",
      "84778   0b1e1539f2cc45b7b9fa7c272da2e1d7     NaN  \n",
      "85776   0b1e1539f2cc45b7b9fa7c272da2e1d7     NaN  \n",
      "85777   0b1e1539f2cc45b7b9fa7c272da2e1d7     NaN  \n",
      "85864   0b1e1539f2cc45b7b9fa7c272da2e1d7     NaN  \n",
      "85865   0b1e1539f2cc45b7b9fa7c272da2e1d7     NaN  \n",
      "91622   0b1e1539f2cc45b7b9fa7c272da2e1d7     NaN  \n",
      "91623   0b1e1539f2cc45b7b9fa7c272da2e1d7     NaN  \n",
      "93590   fafdcd668e3743c1bb461111dcafc2a4     NaN  \n",
      "93591   fafdcd668e3743c1bb461111dcafc2a4     NaN  \n",
      "123575  2298d6c36e964ae4a3e7e9706d1fb8c2     NaN  \n",
      "123576  2298d6c36e964ae4a3e7e9706d1fb8c2     NaN  \n",
      "...                                  ...     ...  \n",
      "292882  fafdcd668e3743c1bb461111dcafc2a4     NaN  \n",
      "292883  fafdcd668e3743c1bb461111dcafc2a4     NaN  \n",
      "293679  ae264e3637204a6fb9bb56bc8210ddfd     NaN  \n",
      "293680  ae264e3637204a6fb9bb56bc8210ddfd     NaN  \n",
      "294325  2906b810c7d4411798c6938adc9daaa5     NaN  \n",
      "294326  2906b810c7d4411798c6938adc9daaa5     NaN  \n",
      "294330  2906b810c7d4411798c6938adc9daaa5     NaN  \n",
      "294331  2906b810c7d4411798c6938adc9daaa5     NaN  \n",
      "294982  9b98b8c7a33c4b65b9aebfe6a799e6d9     NaN  \n",
      "294983  9b98b8c7a33c4b65b9aebfe6a799e6d9     NaN  \n",
      "295559  9b98b8c7a33c4b65b9aebfe6a799e6d9     NaN  \n",
      "295560  9b98b8c7a33c4b65b9aebfe6a799e6d9     NaN  \n",
      "295594  0b1e1539f2cc45b7b9fa7c272da2e1d7     NaN  \n",
      "295595  0b1e1539f2cc45b7b9fa7c272da2e1d7     NaN  \n",
      "296111  0b1e1539f2cc45b7b9fa7c272da2e1d7     NaN  \n",
      "296112  0b1e1539f2cc45b7b9fa7c272da2e1d7     NaN  \n",
      "296871  2906b810c7d4411798c6938adc9daaa5     NaN  \n",
      "296872  2906b810c7d4411798c6938adc9daaa5     NaN  \n",
      "297126  ae264e3637204a6fb9bb56bc8210ddfd     NaN  \n",
      "297127  ae264e3637204a6fb9bb56bc8210ddfd     NaN  \n",
      "297624  9b98b8c7a33c4b65b9aebfe6a799e6d9     NaN  \n",
      "297625  9b98b8c7a33c4b65b9aebfe6a799e6d9     NaN  \n",
      "299470  0b1e1539f2cc45b7b9fa7c272da2e1d7     NaN  \n",
      "299471  0b1e1539f2cc45b7b9fa7c272da2e1d7     NaN  \n",
      "304755  0b1e1539f2cc45b7b9fa7c272da2e1d7     NaN  \n",
      "304756  0b1e1539f2cc45b7b9fa7c272da2e1d7     NaN  \n",
      "305550  fafdcd668e3743c1bb461111dcafc2a4     NaN  \n",
      "305551  fafdcd668e3743c1bb461111dcafc2a4     NaN  \n",
      "306455  0b1e1539f2cc45b7b9fa7c272da2e1d7     NaN  \n",
      "306456  0b1e1539f2cc45b7b9fa7c272da2e1d7     NaN  \n",
      "\n",
      "[793 rows x 5 columns]\n"
     ]
    }
   ],
   "source": [
    "duplicate_rows = transcript[transcript.duplicated(keep=False)]\n",
    "print(\"Duplicate Rows:\")\n",
    "print(duplicate_rows)"
   ]
  },
  {
   "cell_type": "code",
   "execution_count": 25,
   "metadata": {},
   "outputs": [],
   "source": [
    "transcript = transcript.drop_duplicates(keep='first')"
   ]
  },
  {
   "cell_type": "code",
   "execution_count": 26,
   "metadata": {},
   "outputs": [
    {
     "data": {
      "text/html": [
       "<div>\n",
       "<style scoped>\n",
       "    .dataframe tbody tr th:only-of-type {\n",
       "        vertical-align: middle;\n",
       "    }\n",
       "\n",
       "    .dataframe tbody tr th {\n",
       "        vertical-align: top;\n",
       "    }\n",
       "\n",
       "    .dataframe thead th {\n",
       "        text-align: right;\n",
       "    }\n",
       "</style>\n",
       "<table border=\"1\" class=\"dataframe\">\n",
       "  <thead>\n",
       "    <tr style=\"text-align: right;\">\n",
       "      <th></th>\n",
       "      <th>event</th>\n",
       "      <th>person</th>\n",
       "      <th>time</th>\n",
       "      <th>offer_id</th>\n",
       "      <th>amount</th>\n",
       "    </tr>\n",
       "  </thead>\n",
       "  <tbody>\n",
       "    <tr>\n",
       "      <th>0</th>\n",
       "      <td>offer received</td>\n",
       "      <td>78afa995795e4d85b5d9ceeca43f5fef</td>\n",
       "      <td>0</td>\n",
       "      <td>9b98b8c7a33c4b65b9aebfe6a799e6d9</td>\n",
       "      <td>NaN</td>\n",
       "    </tr>\n",
       "    <tr>\n",
       "      <th>1</th>\n",
       "      <td>offer received</td>\n",
       "      <td>a03223e636434f42ac4c3df47e8bac43</td>\n",
       "      <td>0</td>\n",
       "      <td>0b1e1539f2cc45b7b9fa7c272da2e1d7</td>\n",
       "      <td>NaN</td>\n",
       "    </tr>\n",
       "    <tr>\n",
       "      <th>2</th>\n",
       "      <td>offer received</td>\n",
       "      <td>e2127556f4f64592b11af22de27a7932</td>\n",
       "      <td>0</td>\n",
       "      <td>2906b810c7d4411798c6938adc9daaa5</td>\n",
       "      <td>NaN</td>\n",
       "    </tr>\n",
       "    <tr>\n",
       "      <th>3</th>\n",
       "      <td>offer received</td>\n",
       "      <td>8ec6ce2a7e7949b1bf142def7d0e0586</td>\n",
       "      <td>0</td>\n",
       "      <td>fafdcd668e3743c1bb461111dcafc2a4</td>\n",
       "      <td>NaN</td>\n",
       "    </tr>\n",
       "    <tr>\n",
       "      <th>4</th>\n",
       "      <td>offer received</td>\n",
       "      <td>68617ca6246f4fbc85e91a2a49552598</td>\n",
       "      <td>0</td>\n",
       "      <td>4d5c57ea9a6940dd891ad53e9dbe8da0</td>\n",
       "      <td>NaN</td>\n",
       "    </tr>\n",
       "  </tbody>\n",
       "</table>\n",
       "</div>"
      ],
      "text/plain": [
       "            event                            person  time  \\\n",
       "0  offer received  78afa995795e4d85b5d9ceeca43f5fef     0   \n",
       "1  offer received  a03223e636434f42ac4c3df47e8bac43     0   \n",
       "2  offer received  e2127556f4f64592b11af22de27a7932     0   \n",
       "3  offer received  8ec6ce2a7e7949b1bf142def7d0e0586     0   \n",
       "4  offer received  68617ca6246f4fbc85e91a2a49552598     0   \n",
       "\n",
       "                           offer_id  amount  \n",
       "0  9b98b8c7a33c4b65b9aebfe6a799e6d9     NaN  \n",
       "1  0b1e1539f2cc45b7b9fa7c272da2e1d7     NaN  \n",
       "2  2906b810c7d4411798c6938adc9daaa5     NaN  \n",
       "3  fafdcd668e3743c1bb461111dcafc2a4     NaN  \n",
       "4  4d5c57ea9a6940dd891ad53e9dbe8da0     NaN  "
      ]
     },
     "execution_count": 26,
     "metadata": {},
     "output_type": "execute_result"
    }
   ],
   "source": [
    "transcript.head()"
   ]
  },
  {
   "cell_type": "code",
   "execution_count": 27,
   "metadata": {},
   "outputs": [
    {
     "data": {
      "text/plain": [
       "transaction        138953\n",
       "offer received      76277\n",
       "offer viewed        57725\n",
       "offer completed     33182\n",
       "Name: event, dtype: int64"
      ]
     },
     "execution_count": 27,
     "metadata": {},
     "output_type": "execute_result"
    }
   ],
   "source": [
    "transcript.event.value_counts()"
   ]
  },
  {
   "cell_type": "code",
   "execution_count": 28,
   "metadata": {},
   "outputs": [
    {
     "data": {
      "image/png": "[encoded data removed]",
      "text/plain": [
       "<matplotlib.figure.Figure at 0x7f5a7ff1c128>"
      ]
     },
     "metadata": {
      "needs_background": "light"
     },
     "output_type": "display_data"
    }
   ],
   "source": [
    "import matplotlib.pyplot as plt\n",
    "import seaborn as sns\n",
    "# Distribution of offer types\n",
    "offer_type_distribution = portfolio['offer_type'].value_counts()\n",
    "\n",
    "# Plot the distribution of offer types\n",
    "plt.figure(figsize=(8, 6))\n",
    "sns.barplot(x=offer_type_distribution.index, y=offer_type_distribution.values, palette='viridis')\n",
    "plt.title('Distribution of Offer Types')\n",
    "plt.xlabel('Offer Type')\n",
    "plt.ylabel('Count')\n",
    "plt.show()"
   ]
  },
  {
   "cell_type": "code",
   "execution_count": 29,
   "metadata": {},
   "outputs": [
    {
     "data": {
      "image/png": "[encoded data removed]",
      "text/plain": [
       "<matplotlib.figure.Figure at 0x7f5a7ed58f28>"
      ]
     },
     "metadata": {
      "needs_background": "light"
     },
     "output_type": "display_data"
    }
   ],
   "source": [
    "# Distribution of demographics (e.g., age and income)\n",
    "plt.figure(figsize=(12, 5))\n",
    "plt.subplot(1, 2, 1)\n",
    "sns.distplot(profile['age'].dropna(), bins=30, kde=True, color='skyblue')\n",
    "plt.title('Distribution of Age')\n",
    "\n",
    "plt.subplot(1, 2, 2)\n",
    "sns.distplot(profile['income'].dropna(), bins=30, kde=True, color='salmon')\n",
    "plt.title('Distribution of Income')\n",
    "\n",
    "plt.tight_layout()\n",
    "plt.show()\n"
   ]
  },
  {
   "cell_type": "code",
   "execution_count": 30,
   "metadata": {},
   "outputs": [
    {
     "data": {
      "image/png": "[encoded data removed]",
      "text/plain": [
       "<matplotlib.figure.Figure at 0x7f5a7ed58eb8>"
      ]
     },
     "metadata": {
      "needs_background": "light"
     },
     "output_type": "display_data"
    }
   ],
   "source": [
    "# Distribution of transactions\n",
    "transaction_distribution = transcript[transcript['event'] == 'transaction']['amount']\n",
    "\n",
    "plt.figure(figsize=(8, 6))\n",
    "sns.distplot(transaction_distribution, bins=30, kde=True, color='orange')\n",
    "plt.title('Distribution of Transaction Amounts')\n",
    "plt.xlabel('Transaction Amount')\n",
    "plt.ylabel('Count')\n",
    "plt.show()"
   ]
  },
  {
   "cell_type": "code",
   "execution_count": 31,
   "metadata": {},
   "outputs": [
    {
     "data": {
      "text/html": [
       "<div>\n",
       "<style scoped>\n",
       "    .dataframe tbody tr th:only-of-type {\n",
       "        vertical-align: middle;\n",
       "    }\n",
       "\n",
       "    .dataframe tbody tr th {\n",
       "        vertical-align: top;\n",
       "    }\n",
       "\n",
       "    .dataframe thead th {\n",
       "        text-align: right;\n",
       "    }\n",
       "</style>\n",
       "<table border=\"1\" class=\"dataframe\">\n",
       "  <thead>\n",
       "    <tr style=\"text-align: right;\">\n",
       "      <th></th>\n",
       "      <th>event</th>\n",
       "      <th>person</th>\n",
       "      <th>time</th>\n",
       "      <th>offer_id</th>\n",
       "      <th>amount</th>\n",
       "    </tr>\n",
       "  </thead>\n",
       "  <tbody>\n",
       "    <tr>\n",
       "      <th>0</th>\n",
       "      <td>offer received</td>\n",
       "      <td>78afa995795e4d85b5d9ceeca43f5fef</td>\n",
       "      <td>0</td>\n",
       "      <td>9b98b8c7a33c4b65b9aebfe6a799e6d9</td>\n",
       "      <td>NaN</td>\n",
       "    </tr>\n",
       "    <tr>\n",
       "      <th>1</th>\n",
       "      <td>offer received</td>\n",
       "      <td>a03223e636434f42ac4c3df47e8bac43</td>\n",
       "      <td>0</td>\n",
       "      <td>0b1e1539f2cc45b7b9fa7c272da2e1d7</td>\n",
       "      <td>NaN</td>\n",
       "    </tr>\n",
       "    <tr>\n",
       "      <th>2</th>\n",
       "      <td>offer received</td>\n",
       "      <td>e2127556f4f64592b11af22de27a7932</td>\n",
       "      <td>0</td>\n",
       "      <td>2906b810c7d4411798c6938adc9daaa5</td>\n",
       "      <td>NaN</td>\n",
       "    </tr>\n",
       "    <tr>\n",
       "      <th>3</th>\n",
       "      <td>offer received</td>\n",
       "      <td>8ec6ce2a7e7949b1bf142def7d0e0586</td>\n",
       "      <td>0</td>\n",
       "      <td>fafdcd668e3743c1bb461111dcafc2a4</td>\n",
       "      <td>NaN</td>\n",
       "    </tr>\n",
       "    <tr>\n",
       "      <th>4</th>\n",
       "      <td>offer received</td>\n",
       "      <td>68617ca6246f4fbc85e91a2a49552598</td>\n",
       "      <td>0</td>\n",
       "      <td>4d5c57ea9a6940dd891ad53e9dbe8da0</td>\n",
       "      <td>NaN</td>\n",
       "    </tr>\n",
       "  </tbody>\n",
       "</table>\n",
       "</div>"
      ],
      "text/plain": [
       "            event                            person  time  \\\n",
       "0  offer received  78afa995795e4d85b5d9ceeca43f5fef     0   \n",
       "1  offer received  a03223e636434f42ac4c3df47e8bac43     0   \n",
       "2  offer received  e2127556f4f64592b11af22de27a7932     0   \n",
       "3  offer received  8ec6ce2a7e7949b1bf142def7d0e0586     0   \n",
       "4  offer received  68617ca6246f4fbc85e91a2a49552598     0   \n",
       "\n",
       "                           offer_id  amount  \n",
       "0  9b98b8c7a33c4b65b9aebfe6a799e6d9     NaN  \n",
       "1  0b1e1539f2cc45b7b9fa7c272da2e1d7     NaN  \n",
       "2  2906b810c7d4411798c6938adc9daaa5     NaN  \n",
       "3  fafdcd668e3743c1bb461111dcafc2a4     NaN  \n",
       "4  4d5c57ea9a6940dd891ad53e9dbe8da0     NaN  "
      ]
     },
     "execution_count": 31,
     "metadata": {},
     "output_type": "execute_result"
    }
   ],
   "source": [
    "transcript.head()"
   ]
  },
  {
   "cell_type": "code",
   "execution_count": 32,
   "metadata": {},
   "outputs": [
    {
     "data": {
      "text/plain": [
       "transaction        138953\n",
       "offer received      76277\n",
       "offer viewed        57725\n",
       "offer completed     33182\n",
       "Name: event, dtype: int64"
      ]
     },
     "execution_count": 32,
     "metadata": {},
     "output_type": "execute_result"
    }
   ],
   "source": [
    "transcript.event.value_counts()"
   ]
  },
  {
   "cell_type": "code",
   "execution_count": 33,
   "metadata": {},
   "outputs": [
    {
     "data": {
      "text/plain": [
       "167184"
      ]
     },
     "execution_count": 33,
     "metadata": {},
     "output_type": "execute_result"
    }
   ],
   "source": [
    "transcript.amount.isnull().sum()"
   ]
  },
  {
   "cell_type": "code",
   "execution_count": 34,
   "metadata": {},
   "outputs": [
    {
     "data": {
      "text/plain": [
       "306137"
      ]
     },
     "execution_count": 34,
     "metadata": {},
     "output_type": "execute_result"
    }
   ],
   "source": [
    "len(transcript)"
   ]
  },
  {
   "cell_type": "code",
   "execution_count": 35,
   "metadata": {},
   "outputs": [
    {
     "data": {
      "text/html": [
       "<div>\n",
       "<style scoped>\n",
       "    .dataframe tbody tr th:only-of-type {\n",
       "        vertical-align: middle;\n",
       "    }\n",
       "\n",
       "    .dataframe tbody tr th {\n",
       "        vertical-align: top;\n",
       "    }\n",
       "\n",
       "    .dataframe thead th {\n",
       "        text-align: right;\n",
       "    }\n",
       "</style>\n",
       "<table border=\"1\" class=\"dataframe\">\n",
       "  <thead>\n",
       "    <tr style=\"text-align: right;\">\n",
       "      <th></th>\n",
       "      <th>age</th>\n",
       "      <th>became_member_on</th>\n",
       "      <th>gender</th>\n",
       "      <th>income</th>\n",
       "    </tr>\n",
       "    <tr>\n",
       "      <th>id</th>\n",
       "      <th></th>\n",
       "      <th></th>\n",
       "      <th></th>\n",
       "      <th></th>\n",
       "    </tr>\n",
       "  </thead>\n",
       "  <tbody>\n",
       "    <tr>\n",
       "      <th>68be06ca386d4c31939f3a4f0e3dd783</th>\n",
       "      <td>NaN</td>\n",
       "      <td>2017-02-12</td>\n",
       "      <td>None</td>\n",
       "      <td>NaN</td>\n",
       "    </tr>\n",
       "    <tr>\n",
       "      <th>0610b486422d4921ae7d2bf64640c50b</th>\n",
       "      <td>55.0</td>\n",
       "      <td>2017-07-15</td>\n",
       "      <td>F</td>\n",
       "      <td>112000.0</td>\n",
       "    </tr>\n",
       "    <tr>\n",
       "      <th>38fe809add3b4fcf9315a9694bb96ff5</th>\n",
       "      <td>NaN</td>\n",
       "      <td>2018-07-12</td>\n",
       "      <td>None</td>\n",
       "      <td>NaN</td>\n",
       "    </tr>\n",
       "    <tr>\n",
       "      <th>78afa995795e4d85b5d9ceeca43f5fef</th>\n",
       "      <td>75.0</td>\n",
       "      <td>2017-05-09</td>\n",
       "      <td>F</td>\n",
       "      <td>100000.0</td>\n",
       "    </tr>\n",
       "    <tr>\n",
       "      <th>a03223e636434f42ac4c3df47e8bac43</th>\n",
       "      <td>NaN</td>\n",
       "      <td>2017-08-04</td>\n",
       "      <td>None</td>\n",
       "      <td>NaN</td>\n",
       "    </tr>\n",
       "  </tbody>\n",
       "</table>\n",
       "</div>"
      ],
      "text/plain": [
       "                                   age became_member_on gender    income\n",
       "id                                                                      \n",
       "68be06ca386d4c31939f3a4f0e3dd783   NaN       2017-02-12   None       NaN\n",
       "0610b486422d4921ae7d2bf64640c50b  55.0       2017-07-15      F  112000.0\n",
       "38fe809add3b4fcf9315a9694bb96ff5   NaN       2018-07-12   None       NaN\n",
       "78afa995795e4d85b5d9ceeca43f5fef  75.0       2017-05-09      F  100000.0\n",
       "a03223e636434f42ac4c3df47e8bac43   NaN       2017-08-04   None       NaN"
      ]
     },
     "execution_count": 35,
     "metadata": {},
     "output_type": "execute_result"
    }
   ],
   "source": [
    "profile.head()"
   ]
  },
  {
   "cell_type": "code",
   "execution_count": 36,
   "metadata": {},
   "outputs": [
    {
     "data": {
      "text/html": [
       "<div>\n",
       "<style scoped>\n",
       "    .dataframe tbody tr th:only-of-type {\n",
       "        vertical-align: middle;\n",
       "    }\n",
       "\n",
       "    .dataframe tbody tr th {\n",
       "        vertical-align: top;\n",
       "    }\n",
       "\n",
       "    .dataframe thead th {\n",
       "        text-align: right;\n",
       "    }\n",
       "</style>\n",
       "<table border=\"1\" class=\"dataframe\">\n",
       "  <thead>\n",
       "    <tr style=\"text-align: right;\">\n",
       "      <th></th>\n",
       "      <th>difficulty</th>\n",
       "      <th>duration</th>\n",
       "      <th>offer_type</th>\n",
       "      <th>reward</th>\n",
       "      <th>web</th>\n",
       "      <th>email</th>\n",
       "      <th>mobile</th>\n",
       "      <th>social</th>\n",
       "    </tr>\n",
       "    <tr>\n",
       "      <th>id</th>\n",
       "      <th></th>\n",
       "      <th></th>\n",
       "      <th></th>\n",
       "      <th></th>\n",
       "      <th></th>\n",
       "      <th></th>\n",
       "      <th></th>\n",
       "      <th></th>\n",
       "    </tr>\n",
       "  </thead>\n",
       "  <tbody>\n",
       "    <tr>\n",
       "      <th>ae264e3637204a6fb9bb56bc8210ddfd</th>\n",
       "      <td>10</td>\n",
       "      <td>7</td>\n",
       "      <td>bogo</td>\n",
       "      <td>10</td>\n",
       "      <td>0</td>\n",
       "      <td>1</td>\n",
       "      <td>1</td>\n",
       "      <td>1</td>\n",
       "    </tr>\n",
       "    <tr>\n",
       "      <th>4d5c57ea9a6940dd891ad53e9dbe8da0</th>\n",
       "      <td>10</td>\n",
       "      <td>5</td>\n",
       "      <td>bogo</td>\n",
       "      <td>10</td>\n",
       "      <td>1</td>\n",
       "      <td>1</td>\n",
       "      <td>1</td>\n",
       "      <td>1</td>\n",
       "    </tr>\n",
       "    <tr>\n",
       "      <th>3f207df678b143eea3cee63160fa8bed</th>\n",
       "      <td>0</td>\n",
       "      <td>4</td>\n",
       "      <td>informational</td>\n",
       "      <td>0</td>\n",
       "      <td>1</td>\n",
       "      <td>1</td>\n",
       "      <td>1</td>\n",
       "      <td>0</td>\n",
       "    </tr>\n",
       "    <tr>\n",
       "      <th>9b98b8c7a33c4b65b9aebfe6a799e6d9</th>\n",
       "      <td>5</td>\n",
       "      <td>7</td>\n",
       "      <td>bogo</td>\n",
       "      <td>5</td>\n",
       "      <td>1</td>\n",
       "      <td>1</td>\n",
       "      <td>1</td>\n",
       "      <td>0</td>\n",
       "    </tr>\n",
       "    <tr>\n",
       "      <th>0b1e1539f2cc45b7b9fa7c272da2e1d7</th>\n",
       "      <td>20</td>\n",
       "      <td>10</td>\n",
       "      <td>discount</td>\n",
       "      <td>5</td>\n",
       "      <td>1</td>\n",
       "      <td>1</td>\n",
       "      <td>0</td>\n",
       "      <td>0</td>\n",
       "    </tr>\n",
       "  </tbody>\n",
       "</table>\n",
       "</div>"
      ],
      "text/plain": [
       "                                  difficulty  duration     offer_type  reward  \\\n",
       "id                                                                              \n",
       "ae264e3637204a6fb9bb56bc8210ddfd          10         7           bogo      10   \n",
       "4d5c57ea9a6940dd891ad53e9dbe8da0          10         5           bogo      10   \n",
       "3f207df678b143eea3cee63160fa8bed           0         4  informational       0   \n",
       "9b98b8c7a33c4b65b9aebfe6a799e6d9           5         7           bogo       5   \n",
       "0b1e1539f2cc45b7b9fa7c272da2e1d7          20        10       discount       5   \n",
       "\n",
       "                                  web  email  mobile  social  \n",
       "id                                                            \n",
       "ae264e3637204a6fb9bb56bc8210ddfd    0      1       1       1  \n",
       "4d5c57ea9a6940dd891ad53e9dbe8da0    1      1       1       1  \n",
       "3f207df678b143eea3cee63160fa8bed    1      1       1       0  \n",
       "9b98b8c7a33c4b65b9aebfe6a799e6d9    1      1       1       0  \n",
       "0b1e1539f2cc45b7b9fa7c272da2e1d7    1      1       0       0  "
      ]
     },
     "execution_count": 36,
     "metadata": {},
     "output_type": "execute_result"
    }
   ],
   "source": [
    "portfolio.head()"
   ]
  },
  {
   "cell_type": "code",
   "execution_count": 37,
   "metadata": {},
   "outputs": [
    {
     "data": {
      "text/plain": [
       "(306137, 5)"
      ]
     },
     "execution_count": 37,
     "metadata": {},
     "output_type": "execute_result"
    }
   ],
   "source": [
    "transcript.shape"
   ]
  },
  {
   "cell_type": "code",
   "execution_count": 38,
   "metadata": {},
   "outputs": [
    {
     "name": "stdout",
     "output_type": "stream",
     "text": [
      "Top 10 rows where event is 'offer completed':\n",
      "                 event                            person  time  \\\n",
      "12658  offer completed  9fa9ae8f57894cc9a3b8a9bbe0fc1b2f     0   \n",
      "12672  offer completed  fe97aa22dd3e48c8b143116a8403dd52     0   \n",
      "12679  offer completed  629fc02d56414d91bca360decdfa9288     0   \n",
      "12692  offer completed  676506bad68e4161b9bbaffeb039626b     0   \n",
      "12697  offer completed  8f7dd3b2afe14c078eb4f6e6fe4ba97d     0   \n",
      "12717  offer completed  227f2d69e46a4899b70d48182822cff6     0   \n",
      "12721  offer completed  bb0f25e23a4c4de6a645527c275cd594     0   \n",
      "12744  offer completed  d72d201be5794279aa716d8ad82b8d90     0   \n",
      "12764  offer completed  73ffefd41e9a4ca3ab26b2b3697c6eb7     0   \n",
      "12767  offer completed  3e621194f72e40d7a0b695ee9b7c38b7     0   \n",
      "\n",
      "                               offer_id  amount  \n",
      "12658  2906b810c7d4411798c6938adc9daaa5     NaN  \n",
      "12672  fafdcd668e3743c1bb461111dcafc2a4     NaN  \n",
      "12679  9b98b8c7a33c4b65b9aebfe6a799e6d9     NaN  \n",
      "12692  ae264e3637204a6fb9bb56bc8210ddfd     NaN  \n",
      "12697  4d5c57ea9a6940dd891ad53e9dbe8da0     NaN  \n",
      "12717  4d5c57ea9a6940dd891ad53e9dbe8da0     NaN  \n",
      "12721  2298d6c36e964ae4a3e7e9706d1fb8c2     NaN  \n",
      "12744  f19421c1d4aa40978ebb69ca19b0e20d     NaN  \n",
      "12764  2906b810c7d4411798c6938adc9daaa5     NaN  \n",
      "12767  4d5c57ea9a6940dd891ad53e9dbe8da0     NaN  \n"
     ]
    }
   ],
   "source": [
    "# Filter rows where the event is 'offer completed'\n",
    "completed_offers = transcript[transcript['event'] == 'offer completed']\n",
    "\n",
    "# Display the top 10 rows\n",
    "print(\"Top 10 rows where event is 'offer completed':\")\n",
    "print(completed_offers.head(10))"
   ]
  },
  {
   "cell_type": "code",
   "execution_count": 39,
   "metadata": {},
   "outputs": [
    {
     "name": "stdout",
     "output_type": "stream",
     "text": [
      "Rows where event is 'offer completed' and offer_id is not None:\n",
      "                  event                            person  time  \\\n",
      "12658   offer completed  9fa9ae8f57894cc9a3b8a9bbe0fc1b2f     0   \n",
      "12672   offer completed  fe97aa22dd3e48c8b143116a8403dd52     0   \n",
      "12679   offer completed  629fc02d56414d91bca360decdfa9288     0   \n",
      "12692   offer completed  676506bad68e4161b9bbaffeb039626b     0   \n",
      "12697   offer completed  8f7dd3b2afe14c078eb4f6e6fe4ba97d     0   \n",
      "12717   offer completed  227f2d69e46a4899b70d48182822cff6     0   \n",
      "12721   offer completed  bb0f25e23a4c4de6a645527c275cd594     0   \n",
      "12744   offer completed  d72d201be5794279aa716d8ad82b8d90     0   \n",
      "12764   offer completed  73ffefd41e9a4ca3ab26b2b3697c6eb7     0   \n",
      "12767   offer completed  3e621194f72e40d7a0b695ee9b7c38b7     0   \n",
      "12780   offer completed  b860d355ef6e4c66b5d5a837c56ef32d     0   \n",
      "12784   offer completed  99297ea01107436fa8c2e2bc86f55d89     0   \n",
      "12786   offer completed  24115a61df25473e84a8a03f3c98de1a     0   \n",
      "12798   offer completed  afce4cf8194f4e90a3e92da941a23601     0   \n",
      "12817   offer completed  a2ffc22184d94d6fa21b924eb49c0d06     0   \n",
      "12826   offer completed  2481f1fcfbcb4b288e5a03af02d95373     0   \n",
      "12835   offer completed  c3321bc76743445c9103eef0ce9d833b     0   \n",
      "12841   offer completed  162e7d9c644b438ea4606e337df0d3d1     0   \n",
      "12862   offer completed  de90515e9f174ddfb8b4c677448286ef     0   \n",
      "12865   offer completed  5152fa6375184287b06e2fd0d5abed34     0   \n",
      "12900   offer completed  5d048a36203c483facb5ed09983ab388     0   \n",
      "12936   offer completed  16dc4306258b4fef90ffe99f53ed7952     0   \n",
      "12943   offer completed  2c9a9137efff4820a47d56dbf0fa555f     0   \n",
      "12972   offer completed  bf7a630d566f46f79b855990daf2d0b0     0   \n",
      "12988   offer completed  3b78a727167b432d8e1935227b286def     0   \n",
      "12997   offer completed  6d11a027be6c4fac98d27eec516ad2f6     0   \n",
      "13021   offer completed  0454292436bd4cee98e8ec873e30433e     0   \n",
      "13036   offer completed  60b8a75638d2461b988ba4f089f8ad24     0   \n",
      "13043   offer completed  9299c46942f84bb6b5e98fd78fbb9d41     0   \n",
      "13056   offer completed  69d148898a80483babb0f9b2f2cccf5a     0   \n",
      "...                 ...                               ...   ...   \n",
      "306243  offer completed  5cb65af515664bb0b39cdaa089244dc7   714   \n",
      "306249  offer completed  2c2a1a03e7bf49febd39594ce9eb08bb   714   \n",
      "306255  offer completed  3a17105cc12e4fc9aabc7c324835ba9c   714   \n",
      "306260  offer completed  7718656997f3453db0f5aeca9cd35240   714   \n",
      "306265  offer completed  2a109589d81b49fb891bd526e121c1c9   714   \n",
      "306284  offer completed  0fa9cb0814914f778995e061d4460e1a   714   \n",
      "306292  offer completed  8692060470dd472385a617029e19fc91   714   \n",
      "306295  offer completed  264f1758fc9744a9badd3906364a598a   714   \n",
      "306306  offer completed  0f1d40baf5fd438ea8d699a721467c1b   714   \n",
      "306340  offer completed  845c31e647b449479f30b36eac5c5856   714   \n",
      "306344  offer completed  b73c8d5fe3c84a79bb3432387f0f4fb5   714   \n",
      "306348  offer completed  087d0fcdbf294f7494a96d8d6a56cf41   714   \n",
      "306357  offer completed  a3fa9c5ae07348f0ad9c6942a17e063b   714   \n",
      "306365  offer completed  557e2c8128334f00bbe020595885b9c4   714   \n",
      "306374  offer completed  2d868dda028f445b8c7f592d33077229   714   \n",
      "306376  offer completed  0dc85918181e4c3eb0e412d37fa8a552   714   \n",
      "306404  offer completed  6f3fe50d1f26409f94489a85c766f79e   714   \n",
      "306407  offer completed  7f0d9541dc284bb5b390c863644f04cd   714   \n",
      "306410  offer completed  b13eaeb7a91e415a972c9ebc7f63ac57   714   \n",
      "306423  offer completed  8771f96bc7f947c09a8f78ee2e14a1a7   714   \n",
      "306430  offer completed  0355c6a5fdbc429ea5b05e8a9ecd2eae   714   \n",
      "306440  offer completed  f74033a8c6834303bd1b3ef0c98d11d8   714   \n",
      "306444  offer completed  84ad352984b04b73b6dbff8d719de321   714   \n",
      "306455  offer completed  f3e801caeafe4899b3b989b586e74ac7   714   \n",
      "306470  offer completed  452cdae2c68e4732a4177d3929562690   714   \n",
      "306475  offer completed  0c027f5f34dd4b9eba0a25785c611273   714   \n",
      "306497  offer completed  a6f84f4e976f44508c358cc9aba6d2b3   714   \n",
      "306506  offer completed  b895c57e8cd047a8872ce02aa54759d6   714   \n",
      "306509  offer completed  8431c16f8e1d440880db371a68f82dd0   714   \n",
      "306527  offer completed  24f56b5e1849462093931b164eb803b5   714   \n",
      "\n",
      "                                offer_id  amount  \n",
      "12658   2906b810c7d4411798c6938adc9daaa5     NaN  \n",
      "12672   fafdcd668e3743c1bb461111dcafc2a4     NaN  \n",
      "12679   9b98b8c7a33c4b65b9aebfe6a799e6d9     NaN  \n",
      "12692   ae264e3637204a6fb9bb56bc8210ddfd     NaN  \n",
      "12697   4d5c57ea9a6940dd891ad53e9dbe8da0     NaN  \n",
      "12717   4d5c57ea9a6940dd891ad53e9dbe8da0     NaN  \n",
      "12721   2298d6c36e964ae4a3e7e9706d1fb8c2     NaN  \n",
      "12744   f19421c1d4aa40978ebb69ca19b0e20d     NaN  \n",
      "12764   2906b810c7d4411798c6938adc9daaa5     NaN  \n",
      "12767   4d5c57ea9a6940dd891ad53e9dbe8da0     NaN  \n",
      "12780   9b98b8c7a33c4b65b9aebfe6a799e6d9     NaN  \n",
      "12784   9b98b8c7a33c4b65b9aebfe6a799e6d9     NaN  \n",
      "12786   2906b810c7d4411798c6938adc9daaa5     NaN  \n",
      "12798   ae264e3637204a6fb9bb56bc8210ddfd     NaN  \n",
      "12817   2298d6c36e964ae4a3e7e9706d1fb8c2     NaN  \n",
      "12826   2906b810c7d4411798c6938adc9daaa5     NaN  \n",
      "12835   2298d6c36e964ae4a3e7e9706d1fb8c2     NaN  \n",
      "12841   2298d6c36e964ae4a3e7e9706d1fb8c2     NaN  \n",
      "12862   ae264e3637204a6fb9bb56bc8210ddfd     NaN  \n",
      "12865   f19421c1d4aa40978ebb69ca19b0e20d     NaN  \n",
      "12900   4d5c57ea9a6940dd891ad53e9dbe8da0     NaN  \n",
      "12936   9b98b8c7a33c4b65b9aebfe6a799e6d9     NaN  \n",
      "12943   f19421c1d4aa40978ebb69ca19b0e20d     NaN  \n",
      "12972   2298d6c36e964ae4a3e7e9706d1fb8c2     NaN  \n",
      "12988   fafdcd668e3743c1bb461111dcafc2a4     NaN  \n",
      "12997   fafdcd668e3743c1bb461111dcafc2a4     NaN  \n",
      "13021   9b98b8c7a33c4b65b9aebfe6a799e6d9     NaN  \n",
      "13036   9b98b8c7a33c4b65b9aebfe6a799e6d9     NaN  \n",
      "13043   fafdcd668e3743c1bb461111dcafc2a4     NaN  \n",
      "13056   f19421c1d4aa40978ebb69ca19b0e20d     NaN  \n",
      "...                                  ...     ...  \n",
      "306243  0b1e1539f2cc45b7b9fa7c272da2e1d7     NaN  \n",
      "306249  2298d6c36e964ae4a3e7e9706d1fb8c2     NaN  \n",
      "306255  9b98b8c7a33c4b65b9aebfe6a799e6d9     NaN  \n",
      "306260  9b98b8c7a33c4b65b9aebfe6a799e6d9     NaN  \n",
      "306265  9b98b8c7a33c4b65b9aebfe6a799e6d9     NaN  \n",
      "306284  2906b810c7d4411798c6938adc9daaa5     NaN  \n",
      "306292  9b98b8c7a33c4b65b9aebfe6a799e6d9     NaN  \n",
      "306295  2906b810c7d4411798c6938adc9daaa5     NaN  \n",
      "306306  ae264e3637204a6fb9bb56bc8210ddfd     NaN  \n",
      "306340  2906b810c7d4411798c6938adc9daaa5     NaN  \n",
      "306344  9b98b8c7a33c4b65b9aebfe6a799e6d9     NaN  \n",
      "306348  9b98b8c7a33c4b65b9aebfe6a799e6d9     NaN  \n",
      "306357  2298d6c36e964ae4a3e7e9706d1fb8c2     NaN  \n",
      "306365  fafdcd668e3743c1bb461111dcafc2a4     NaN  \n",
      "306374  fafdcd668e3743c1bb461111dcafc2a4     NaN  \n",
      "306376  0b1e1539f2cc45b7b9fa7c272da2e1d7     NaN  \n",
      "306404  ae264e3637204a6fb9bb56bc8210ddfd     NaN  \n",
      "306407  2298d6c36e964ae4a3e7e9706d1fb8c2     NaN  \n",
      "306410  9b98b8c7a33c4b65b9aebfe6a799e6d9     NaN  \n",
      "306423  9b98b8c7a33c4b65b9aebfe6a799e6d9     NaN  \n",
      "306430  9b98b8c7a33c4b65b9aebfe6a799e6d9     NaN  \n",
      "306440  0b1e1539f2cc45b7b9fa7c272da2e1d7     NaN  \n",
      "306444  9b98b8c7a33c4b65b9aebfe6a799e6d9     NaN  \n",
      "306455  0b1e1539f2cc45b7b9fa7c272da2e1d7     NaN  \n",
      "306470  fafdcd668e3743c1bb461111dcafc2a4     NaN  \n",
      "306475  2298d6c36e964ae4a3e7e9706d1fb8c2     NaN  \n",
      "306497  2298d6c36e964ae4a3e7e9706d1fb8c2     NaN  \n",
      "306506  fafdcd668e3743c1bb461111dcafc2a4     NaN  \n",
      "306509  fafdcd668e3743c1bb461111dcafc2a4     NaN  \n",
      "306527  fafdcd668e3743c1bb461111dcafc2a4     NaN  \n",
      "\n",
      "[33182 rows x 5 columns]\n"
     ]
    }
   ],
   "source": [
    "# Filter rows where the event is 'offer completed' and offer_id is not None\n",
    "completed_offers_valid_ids = transcript[(transcript['event'] == 'offer completed') & (transcript['offer_id'].notna())]\n",
    "\n",
    "# Display the rows\n",
    "print(\"Rows where event is 'offer completed' and offer_id is not None:\")\n",
    "print(completed_offers_valid_ids)"
   ]
  },
  {
   "cell_type": "code",
   "execution_count": 40,
   "metadata": {},
   "outputs": [
    {
     "name": "stdout",
     "output_type": "stream",
     "text": [
      "Offer IDs in transcript that are not in portfolio:\n",
      "{None}\n"
     ]
    }
   ],
   "source": [
    "\n",
    "# Get unique offer IDs from transcript\n",
    "transcript_offer_ids = set(transcript['offer_id'].unique())\n",
    "\n",
    "# Get unique offer IDs from portfolio\n",
    "portfolio_offer_ids = set(portfolio.index.unique())\n",
    "\n",
    "# Find offer IDs in transcript that are not in portfolio\n",
    "missing_offer_ids = transcript_offer_ids - portfolio_offer_ids\n",
    "\n",
    "# Display the missing offer IDs\n",
    "print(\"Offer IDs in transcript that are not in portfolio:\")\n",
    "print(missing_offer_ids)"
   ]
  },
  {
   "cell_type": "code",
   "execution_count": 41,
   "metadata": {},
   "outputs": [
    {
     "data": {
      "text/plain": [
       "138953"
      ]
     },
     "execution_count": 41,
     "metadata": {},
     "output_type": "execute_result"
    }
   ],
   "source": [
    "transcript.offer_id.isnull().sum()"
   ]
  },
  {
   "cell_type": "code",
   "execution_count": 42,
   "metadata": {},
   "outputs": [
    {
     "data": {
      "text/plain": [
       "(306137, 5)"
      ]
     },
     "execution_count": 42,
     "metadata": {},
     "output_type": "execute_result"
    }
   ],
   "source": [
    "transcript.shape"
   ]
  },
  {
   "cell_type": "code",
   "execution_count": 43,
   "metadata": {},
   "outputs": [
    {
     "name": "stdout",
     "output_type": "stream",
     "text": [
      "Rows where event is 'offer completed' and offer_id is None:\n",
      "Empty DataFrame\n",
      "Columns: [event, person, time, offer_id, amount]\n",
      "Index: []\n"
     ]
    }
   ],
   "source": [
    "# Filter rows where the event is 'offer completed' and offer_id is None\n",
    "completed_offers_null_ids = transcript[(transcript['event'] == 'offer completed') & (transcript['offer_id'].isna())]\n",
    "\n",
    "# Display the rows\n",
    "print(\"Rows where event is 'offer completed' and offer_id is None:\")\n",
    "print(completed_offers_null_ids)\n"
   ]
  },
  {
   "cell_type": "code",
   "execution_count": 44,
   "metadata": {},
   "outputs": [
    {
     "data": {
      "text/plain": [
       "(10, 8)"
      ]
     },
     "execution_count": 44,
     "metadata": {},
     "output_type": "execute_result"
    }
   ],
   "source": [
    "portfolio.shape"
   ]
  },
  {
   "cell_type": "code",
   "execution_count": 45,
   "metadata": {},
   "outputs": [
    {
     "data": {
      "text/plain": [
       "(17000, 4)"
      ]
     },
     "execution_count": 45,
     "metadata": {},
     "output_type": "execute_result"
    }
   ],
   "source": [
    "profile.shape"
   ]
  },
  {
   "cell_type": "code",
   "execution_count": 46,
   "metadata": {},
   "outputs": [],
   "source": [
    "# Merge datasets\n",
    "merged_data = transcript.merge(portfolio, how='left', left_on='offer_id', right_on='id')\n",
    "merged_data = merged_data.merge(profile, how='left', left_on='person', right_on='id')\n"
   ]
  },
  {
   "cell_type": "code",
   "execution_count": 47,
   "metadata": {},
   "outputs": [
    {
     "data": {
      "text/plain": [
       "(306137, 17)"
      ]
     },
     "execution_count": 47,
     "metadata": {},
     "output_type": "execute_result"
    }
   ],
   "source": [
    "merged_data.shape"
   ]
  },
  {
   "cell_type": "code",
   "execution_count": 48,
   "metadata": {},
   "outputs": [
    {
     "data": {
      "text/html": [
       "<div>\n",
       "<style scoped>\n",
       "    .dataframe tbody tr th:only-of-type {\n",
       "        vertical-align: middle;\n",
       "    }\n",
       "\n",
       "    .dataframe tbody tr th {\n",
       "        vertical-align: top;\n",
       "    }\n",
       "\n",
       "    .dataframe thead th {\n",
       "        text-align: right;\n",
       "    }\n",
       "</style>\n",
       "<table border=\"1\" class=\"dataframe\">\n",
       "  <thead>\n",
       "    <tr style=\"text-align: right;\">\n",
       "      <th></th>\n",
       "      <th>event</th>\n",
       "      <th>person</th>\n",
       "      <th>time</th>\n",
       "      <th>offer_id</th>\n",
       "      <th>amount</th>\n",
       "      <th>difficulty</th>\n",
       "      <th>duration</th>\n",
       "      <th>offer_type</th>\n",
       "      <th>reward</th>\n",
       "      <th>web</th>\n",
       "      <th>email</th>\n",
       "      <th>mobile</th>\n",
       "      <th>social</th>\n",
       "      <th>age</th>\n",
       "      <th>became_member_on</th>\n",
       "      <th>gender</th>\n",
       "      <th>income</th>\n",
       "    </tr>\n",
       "  </thead>\n",
       "  <tbody>\n",
       "    <tr>\n",
       "      <th>0</th>\n",
       "      <td>offer received</td>\n",
       "      <td>78afa995795e4d85b5d9ceeca43f5fef</td>\n",
       "      <td>0</td>\n",
       "      <td>9b98b8c7a33c4b65b9aebfe6a799e6d9</td>\n",
       "      <td>NaN</td>\n",
       "      <td>5.0</td>\n",
       "      <td>7.0</td>\n",
       "      <td>bogo</td>\n",
       "      <td>5.0</td>\n",
       "      <td>1.0</td>\n",
       "      <td>1.0</td>\n",
       "      <td>1.0</td>\n",
       "      <td>0.0</td>\n",
       "      <td>75.0</td>\n",
       "      <td>2017-05-09</td>\n",
       "      <td>F</td>\n",
       "      <td>100000.0</td>\n",
       "    </tr>\n",
       "    <tr>\n",
       "      <th>1</th>\n",
       "      <td>offer received</td>\n",
       "      <td>a03223e636434f42ac4c3df47e8bac43</td>\n",
       "      <td>0</td>\n",
       "      <td>0b1e1539f2cc45b7b9fa7c272da2e1d7</td>\n",
       "      <td>NaN</td>\n",
       "      <td>20.0</td>\n",
       "      <td>10.0</td>\n",
       "      <td>discount</td>\n",
       "      <td>5.0</td>\n",
       "      <td>1.0</td>\n",
       "      <td>1.0</td>\n",
       "      <td>0.0</td>\n",
       "      <td>0.0</td>\n",
       "      <td>NaN</td>\n",
       "      <td>2017-08-04</td>\n",
       "      <td>None</td>\n",
       "      <td>NaN</td>\n",
       "    </tr>\n",
       "    <tr>\n",
       "      <th>2</th>\n",
       "      <td>offer received</td>\n",
       "      <td>e2127556f4f64592b11af22de27a7932</td>\n",
       "      <td>0</td>\n",
       "      <td>2906b810c7d4411798c6938adc9daaa5</td>\n",
       "      <td>NaN</td>\n",
       "      <td>10.0</td>\n",
       "      <td>7.0</td>\n",
       "      <td>discount</td>\n",
       "      <td>2.0</td>\n",
       "      <td>1.0</td>\n",
       "      <td>1.0</td>\n",
       "      <td>1.0</td>\n",
       "      <td>0.0</td>\n",
       "      <td>68.0</td>\n",
       "      <td>2018-04-26</td>\n",
       "      <td>M</td>\n",
       "      <td>70000.0</td>\n",
       "    </tr>\n",
       "    <tr>\n",
       "      <th>3</th>\n",
       "      <td>offer received</td>\n",
       "      <td>8ec6ce2a7e7949b1bf142def7d0e0586</td>\n",
       "      <td>0</td>\n",
       "      <td>fafdcd668e3743c1bb461111dcafc2a4</td>\n",
       "      <td>NaN</td>\n",
       "      <td>10.0</td>\n",
       "      <td>10.0</td>\n",
       "      <td>discount</td>\n",
       "      <td>2.0</td>\n",
       "      <td>1.0</td>\n",
       "      <td>1.0</td>\n",
       "      <td>1.0</td>\n",
       "      <td>1.0</td>\n",
       "      <td>NaN</td>\n",
       "      <td>2017-09-25</td>\n",
       "      <td>None</td>\n",
       "      <td>NaN</td>\n",
       "    </tr>\n",
       "    <tr>\n",
       "      <th>4</th>\n",
       "      <td>offer received</td>\n",
       "      <td>68617ca6246f4fbc85e91a2a49552598</td>\n",
       "      <td>0</td>\n",
       "      <td>4d5c57ea9a6940dd891ad53e9dbe8da0</td>\n",
       "      <td>NaN</td>\n",
       "      <td>10.0</td>\n",
       "      <td>5.0</td>\n",
       "      <td>bogo</td>\n",
       "      <td>10.0</td>\n",
       "      <td>1.0</td>\n",
       "      <td>1.0</td>\n",
       "      <td>1.0</td>\n",
       "      <td>1.0</td>\n",
       "      <td>NaN</td>\n",
       "      <td>2017-10-02</td>\n",
       "      <td>None</td>\n",
       "      <td>NaN</td>\n",
       "    </tr>\n",
       "  </tbody>\n",
       "</table>\n",
       "</div>"
      ],
      "text/plain": [
       "            event                            person  time  \\\n",
       "0  offer received  78afa995795e4d85b5d9ceeca43f5fef     0   \n",
       "1  offer received  a03223e636434f42ac4c3df47e8bac43     0   \n",
       "2  offer received  e2127556f4f64592b11af22de27a7932     0   \n",
       "3  offer received  8ec6ce2a7e7949b1bf142def7d0e0586     0   \n",
       "4  offer received  68617ca6246f4fbc85e91a2a49552598     0   \n",
       "\n",
       "                           offer_id  amount  difficulty  duration offer_type  \\\n",
       "0  9b98b8c7a33c4b65b9aebfe6a799e6d9     NaN         5.0       7.0       bogo   \n",
       "1  0b1e1539f2cc45b7b9fa7c272da2e1d7     NaN        20.0      10.0   discount   \n",
       "2  2906b810c7d4411798c6938adc9daaa5     NaN        10.0       7.0   discount   \n",
       "3  fafdcd668e3743c1bb461111dcafc2a4     NaN        10.0      10.0   discount   \n",
       "4  4d5c57ea9a6940dd891ad53e9dbe8da0     NaN        10.0       5.0       bogo   \n",
       "\n",
       "   reward  web  email  mobile  social   age became_member_on gender    income  \n",
       "0     5.0  1.0    1.0     1.0     0.0  75.0       2017-05-09      F  100000.0  \n",
       "1     5.0  1.0    1.0     0.0     0.0   NaN       2017-08-04   None       NaN  \n",
       "2     2.0  1.0    1.0     1.0     0.0  68.0       2018-04-26      M   70000.0  \n",
       "3     2.0  1.0    1.0     1.0     1.0   NaN       2017-09-25   None       NaN  \n",
       "4    10.0  1.0    1.0     1.0     1.0   NaN       2017-10-02   None       NaN  "
      ]
     },
     "execution_count": 48,
     "metadata": {},
     "output_type": "execute_result"
    }
   ],
   "source": [
    "merged_data.head()"
   ]
  },
  {
   "cell_type": "code",
   "execution_count": 49,
   "metadata": {},
   "outputs": [
    {
     "data": {
      "text/plain": [
       "transaction        138953\n",
       "offer received      76277\n",
       "offer viewed        57725\n",
       "offer completed     33182\n",
       "Name: event, dtype: int64"
      ]
     },
     "execution_count": 49,
     "metadata": {},
     "output_type": "execute_result"
    }
   ],
   "source": [
    "merged_data.event.value_counts()"
   ]
  },
  {
   "cell_type": "code",
   "execution_count": 50,
   "metadata": {},
   "outputs": [
    {
     "data": {
      "text/plain": [
       "transaction        138953\n",
       "offer received      76277\n",
       "offer viewed        57725\n",
       "offer completed     33182\n",
       "Name: event, dtype: int64"
      ]
     },
     "execution_count": 50,
     "metadata": {},
     "output_type": "execute_result"
    }
   ],
   "source": [
    "transcript.event.value_counts()"
   ]
  },
  {
   "cell_type": "code",
   "execution_count": 51,
   "metadata": {},
   "outputs": [
    {
     "name": "stdout",
     "output_type": "stream",
     "text": [
      "event                    0\n",
      "person                   0\n",
      "time                     0\n",
      "offer_id            138953\n",
      "amount              167184\n",
      "difficulty          138953\n",
      "duration            138953\n",
      "offer_type          138953\n",
      "reward              138953\n",
      "web                 138953\n",
      "email               138953\n",
      "mobile              138953\n",
      "social              138953\n",
      "age                  33847\n",
      "became_member_on         0\n",
      "gender               33749\n",
      "income               33749\n",
      "dtype: int64\n"
     ]
    }
   ],
   "source": [
    "# Check for missing values\n",
    "print(merged_data.isnull().sum())"
   ]
  },
  {
   "cell_type": "code",
   "execution_count": 52,
   "metadata": {},
   "outputs": [],
   "source": [
    "merged_data = merged_data.drop(['amount'], axis=1)"
   ]
  },
  {
   "cell_type": "code",
   "execution_count": 53,
   "metadata": {},
   "outputs": [],
   "source": [
    "merged_data.dropna(inplace=True)"
   ]
  },
  {
   "cell_type": "code",
   "execution_count": 54,
   "metadata": {},
   "outputs": [
    {
     "data": {
      "text/plain": [
       "(148380, 16)"
      ]
     },
     "execution_count": 54,
     "metadata": {},
     "output_type": "execute_result"
    }
   ],
   "source": [
    "merged_data.shape"
   ]
  },
  {
   "cell_type": "code",
   "execution_count": 55,
   "metadata": {},
   "outputs": [
    {
     "name": "stdout",
     "output_type": "stream",
     "text": [
      "event               0\n",
      "person              0\n",
      "time                0\n",
      "offer_id            0\n",
      "difficulty          0\n",
      "duration            0\n",
      "offer_type          0\n",
      "reward              0\n",
      "web                 0\n",
      "email               0\n",
      "mobile              0\n",
      "social              0\n",
      "age                 0\n",
      "became_member_on    0\n",
      "gender              0\n",
      "income              0\n",
      "dtype: int64\n"
     ]
    }
   ],
   "source": [
    "# Check for missing values\n",
    "print(merged_data.isnull().sum())"
   ]
  },
  {
   "cell_type": "code",
   "execution_count": 56,
   "metadata": {},
   "outputs": [],
   "source": [
    "# Filter for completed offers only\n",
    "\n",
    "completed_offers = merged_data[merged_data['event'] == 'offer completed']"
   ]
  },
  {
   "cell_type": "code",
   "execution_count": 57,
   "metadata": {},
   "outputs": [
    {
     "data": {
      "text/plain": [
       "(32058, 16)"
      ]
     },
     "execution_count": 57,
     "metadata": {},
     "output_type": "execute_result"
    }
   ],
   "source": [
    "completed_offers.shape"
   ]
  },
  {
   "cell_type": "code",
   "execution_count": 58,
   "metadata": {},
   "outputs": [
    {
     "data": {
      "image/png": "[encoded data removed]",
      "text/plain": [
       "<matplotlib.figure.Figure at 0x7f5a8016a860>"
      ]
     },
     "metadata": {
      "needs_background": "light"
     },
     "output_type": "display_data"
    }
   ],
   "source": [
    "\n",
    "\n",
    "# Create age groups\n",
    "bins = [18, 30, 40, 50, 60, 70, 120]\n",
    "labels = ['18-29', '30-39', '40-49', '50-59', '60-69', '70+']\n",
    "merged_data['age_group'] = pd.cut(merged_data['age'].fillna(-1), bins=bins, labels=labels, right=False)\n",
    "\n",
    "# Filter out rows where age is missing or set to -1\n",
    "completed_offers = merged_data[merged_data['age_group'] != -1]\n",
    "\n",
    "# Create income groups\n",
    "bins = [0, 30000, 60000, 90000, 120000, 150000, float('inf')]\n",
    "labels = ['0-30k', '30k-60k', '60k-90k', '90k-120k', '120k-150k', '150k+']\n",
    "merged_data['income_group'] = pd.cut(merged_data['income'].fillna(-1), bins=bins, labels=labels, right=False)\n",
    "\n",
    "# Filter out rows where income is missing or set to -1\n",
    "completed_offers = merged_data[merged_data['income_group'] != -1]\n",
    "\n",
    "\n",
    "# Analyze response to each offer type by demographic group\n",
    "plt.figure(figsize=(12, 8))\n",
    "\n",
    "# Response by age group\n",
    "plt.subplot(2, 2, 1)\n",
    "sns.countplot(x='age_group', hue='offer_type', data=completed_offers)\n",
    "plt.title('Response to Offers by Age Group')\n",
    "\n",
    "# Response by income group\n",
    "plt.subplot(2, 2, 2)\n",
    "sns.countplot(x='income_group', hue='offer_type', data=completed_offers)\n",
    "plt.title('Response to Offers by Income Group')\n",
    "\n",
    "# Response by gender\n",
    "plt.subplot(2, 2, 3)\n",
    "sns.countplot(x='gender', hue='offer_type', data=completed_offers)\n",
    "plt.title('Response to Offers by Gender')\n",
    "\n",
    "plt.tight_layout()\n",
    "plt.show()\n"
   ]
  },
  {
   "cell_type": "code",
   "execution_count": 59,
   "metadata": {},
   "outputs": [
    {
     "data": {
      "image/png": "[encoded data removed]",
      "text/plain": [
       "<matplotlib.figure.Figure at 0x7f5a7f313f28>"
      ]
     },
     "metadata": {
      "needs_background": "light"
     },
     "output_type": "display_data"
    }
   ],
   "source": [
    "# Explore impact based on different factors\n",
    "plt.figure(figsize=(15, 10))\n",
    "\n",
    "# Impact of age on offer completion\n",
    "plt.subplot(3, 2, 1)\n",
    "sns.countplot(x='age_group', hue='offer_type', data=completed_offers)\n",
    "plt.title('Impact of Age on Offer Completion')\n",
    "\n",
    "# Impact of income on offer completion\n",
    "plt.subplot(3, 2, 2)\n",
    "sns.countplot(x='income_group', hue='offer_type', data=completed_offers)\n",
    "plt.title('Impact of Income on Offer Completion')\n",
    "\n",
    "# Impact of gender on offer completion\n",
    "plt.subplot(3, 2, 3)\n",
    "sns.countplot(x='gender', hue='offer_type', data=completed_offers)\n",
    "plt.title('Impact of Gender on Offer Completion')\n",
    "\n",
    "# Impact of offer type on offer completion\n",
    "plt.subplot(3, 2, 4)\n",
    "sns.countplot(x='offer_type', data=completed_offers)\n",
    "plt.title('Impact of Offer Type on Offer Completion')\n",
    "\n",
    "# Impact of reward on offer completion\n",
    "plt.subplot(3, 2, 5)\n",
    "sns.countplot(x='reward', data=completed_offers)\n",
    "plt.title('Impact of Reward on Offer Completion')\n",
    "\n",
    "# Impact of difficulty on offer completion\n",
    "plt.subplot(3, 2, 6)\n",
    "sns.countplot(x='difficulty', data=completed_offers)\n",
    "plt.title('Impact of Difficulty on Offer Completion')\n",
    "\n",
    "plt.tight_layout()\n",
    "plt.show()"
   ]
  },
  {
   "cell_type": "code",
   "execution_count": 60,
   "metadata": {},
   "outputs": [
    {
     "data": {
      "text/plain": [
       "Index(['event', 'person', 'time', 'offer_id', 'difficulty', 'duration',\n",
       "       'offer_type', 'reward', 'web', 'email', 'mobile', 'social', 'age',\n",
       "       'became_member_on', 'gender', 'income', 'age_group', 'income_group'],\n",
       "      dtype='object')"
      ]
     },
     "execution_count": 60,
     "metadata": {},
     "output_type": "execute_result"
    }
   ],
   "source": [
    "merged_data.columns"
   ]
  },
  {
   "cell_type": "code",
   "execution_count": 61,
   "metadata": {},
   "outputs": [
    {
     "data": {
      "text/plain": [
       "event                       object\n",
       "person                      object\n",
       "time                         int64\n",
       "offer_id                    object\n",
       "difficulty                 float64\n",
       "duration                   float64\n",
       "offer_type                  object\n",
       "reward                     float64\n",
       "web                        float64\n",
       "email                      float64\n",
       "mobile                     float64\n",
       "social                     float64\n",
       "age                        float64\n",
       "became_member_on    datetime64[ns]\n",
       "gender                      object\n",
       "income                     float64\n",
       "age_group                 category\n",
       "income_group              category\n",
       "dtype: object"
      ]
     },
     "execution_count": 61,
     "metadata": {},
     "output_type": "execute_result"
    }
   ],
   "source": [
    "merged_data.dtypes"
   ]
  },
  {
   "cell_type": "code",
   "execution_count": 62,
   "metadata": {},
   "outputs": [
    {
     "data": {
      "text/plain": [
       "offer received     66478\n",
       "offer viewed       49844\n",
       "offer completed    32058\n",
       "Name: event, dtype: int64"
      ]
     },
     "execution_count": 62,
     "metadata": {},
     "output_type": "execute_result"
    }
   ],
   "source": [
    "merged_data.event.value_counts()"
   ]
  },
  {
   "cell_type": "code",
   "execution_count": 63,
   "metadata": {},
   "outputs": [
    {
     "data": {
      "text/html": [
       "<div>\n",
       "<style scoped>\n",
       "    .dataframe tbody tr th:only-of-type {\n",
       "        vertical-align: middle;\n",
       "    }\n",
       "\n",
       "    .dataframe tbody tr th {\n",
       "        vertical-align: top;\n",
       "    }\n",
       "\n",
       "    .dataframe thead th {\n",
       "        text-align: right;\n",
       "    }\n",
       "</style>\n",
       "<table border=\"1\" class=\"dataframe\">\n",
       "  <thead>\n",
       "    <tr style=\"text-align: right;\">\n",
       "      <th></th>\n",
       "      <th>event</th>\n",
       "      <th>person</th>\n",
       "      <th>time</th>\n",
       "      <th>offer_id</th>\n",
       "      <th>difficulty</th>\n",
       "      <th>duration</th>\n",
       "      <th>offer_type</th>\n",
       "      <th>reward</th>\n",
       "      <th>web</th>\n",
       "      <th>email</th>\n",
       "      <th>mobile</th>\n",
       "      <th>social</th>\n",
       "      <th>age</th>\n",
       "      <th>became_member_on</th>\n",
       "      <th>gender</th>\n",
       "      <th>income</th>\n",
       "      <th>age_group</th>\n",
       "      <th>income_group</th>\n",
       "    </tr>\n",
       "  </thead>\n",
       "  <tbody>\n",
       "    <tr>\n",
       "      <th>0</th>\n",
       "      <td>offer received</td>\n",
       "      <td>78afa995795e4d85b5d9ceeca43f5fef</td>\n",
       "      <td>0</td>\n",
       "      <td>9b98b8c7a33c4b65b9aebfe6a799e6d9</td>\n",
       "      <td>5.0</td>\n",
       "      <td>7.0</td>\n",
       "      <td>bogo</td>\n",
       "      <td>5.0</td>\n",
       "      <td>1.0</td>\n",
       "      <td>1.0</td>\n",
       "      <td>1.0</td>\n",
       "      <td>0.0</td>\n",
       "      <td>75.0</td>\n",
       "      <td>2017-05-09</td>\n",
       "      <td>F</td>\n",
       "      <td>100000.0</td>\n",
       "      <td>70+</td>\n",
       "      <td>90k-120k</td>\n",
       "    </tr>\n",
       "    <tr>\n",
       "      <th>2</th>\n",
       "      <td>offer received</td>\n",
       "      <td>e2127556f4f64592b11af22de27a7932</td>\n",
       "      <td>0</td>\n",
       "      <td>2906b810c7d4411798c6938adc9daaa5</td>\n",
       "      <td>10.0</td>\n",
       "      <td>7.0</td>\n",
       "      <td>discount</td>\n",
       "      <td>2.0</td>\n",
       "      <td>1.0</td>\n",
       "      <td>1.0</td>\n",
       "      <td>1.0</td>\n",
       "      <td>0.0</td>\n",
       "      <td>68.0</td>\n",
       "      <td>2018-04-26</td>\n",
       "      <td>M</td>\n",
       "      <td>70000.0</td>\n",
       "      <td>60-69</td>\n",
       "      <td>60k-90k</td>\n",
       "    </tr>\n",
       "    <tr>\n",
       "      <th>5</th>\n",
       "      <td>offer received</td>\n",
       "      <td>389bc3fa690240e798340f5a15918d5c</td>\n",
       "      <td>0</td>\n",
       "      <td>f19421c1d4aa40978ebb69ca19b0e20d</td>\n",
       "      <td>5.0</td>\n",
       "      <td>5.0</td>\n",
       "      <td>bogo</td>\n",
       "      <td>5.0</td>\n",
       "      <td>1.0</td>\n",
       "      <td>1.0</td>\n",
       "      <td>1.0</td>\n",
       "      <td>1.0</td>\n",
       "      <td>65.0</td>\n",
       "      <td>2018-02-09</td>\n",
       "      <td>M</td>\n",
       "      <td>53000.0</td>\n",
       "      <td>60-69</td>\n",
       "      <td>30k-60k</td>\n",
       "    </tr>\n",
       "    <tr>\n",
       "      <th>7</th>\n",
       "      <td>offer received</td>\n",
       "      <td>2eeac8d8feae4a8cad5a6af0499a211d</td>\n",
       "      <td>0</td>\n",
       "      <td>3f207df678b143eea3cee63160fa8bed</td>\n",
       "      <td>0.0</td>\n",
       "      <td>4.0</td>\n",
       "      <td>informational</td>\n",
       "      <td>0.0</td>\n",
       "      <td>1.0</td>\n",
       "      <td>1.0</td>\n",
       "      <td>1.0</td>\n",
       "      <td>0.0</td>\n",
       "      <td>58.0</td>\n",
       "      <td>2017-11-11</td>\n",
       "      <td>M</td>\n",
       "      <td>51000.0</td>\n",
       "      <td>50-59</td>\n",
       "      <td>30k-60k</td>\n",
       "    </tr>\n",
       "    <tr>\n",
       "      <th>8</th>\n",
       "      <td>offer received</td>\n",
       "      <td>aa4862eba776480b8bb9c68455b8c2e1</td>\n",
       "      <td>0</td>\n",
       "      <td>0b1e1539f2cc45b7b9fa7c272da2e1d7</td>\n",
       "      <td>20.0</td>\n",
       "      <td>10.0</td>\n",
       "      <td>discount</td>\n",
       "      <td>5.0</td>\n",
       "      <td>1.0</td>\n",
       "      <td>1.0</td>\n",
       "      <td>0.0</td>\n",
       "      <td>0.0</td>\n",
       "      <td>61.0</td>\n",
       "      <td>2017-09-11</td>\n",
       "      <td>F</td>\n",
       "      <td>57000.0</td>\n",
       "      <td>60-69</td>\n",
       "      <td>30k-60k</td>\n",
       "    </tr>\n",
       "  </tbody>\n",
       "</table>\n",
       "</div>"
      ],
      "text/plain": [
       "            event                            person  time  \\\n",
       "0  offer received  78afa995795e4d85b5d9ceeca43f5fef     0   \n",
       "2  offer received  e2127556f4f64592b11af22de27a7932     0   \n",
       "5  offer received  389bc3fa690240e798340f5a15918d5c     0   \n",
       "7  offer received  2eeac8d8feae4a8cad5a6af0499a211d     0   \n",
       "8  offer received  aa4862eba776480b8bb9c68455b8c2e1     0   \n",
       "\n",
       "                           offer_id  difficulty  duration     offer_type  \\\n",
       "0  9b98b8c7a33c4b65b9aebfe6a799e6d9         5.0       7.0           bogo   \n",
       "2  2906b810c7d4411798c6938adc9daaa5        10.0       7.0       discount   \n",
       "5  f19421c1d4aa40978ebb69ca19b0e20d         5.0       5.0           bogo   \n",
       "7  3f207df678b143eea3cee63160fa8bed         0.0       4.0  informational   \n",
       "8  0b1e1539f2cc45b7b9fa7c272da2e1d7        20.0      10.0       discount   \n",
       "\n",
       "   reward  web  email  mobile  social   age became_member_on gender    income  \\\n",
       "0     5.0  1.0    1.0     1.0     0.0  75.0       2017-05-09      F  100000.0   \n",
       "2     2.0  1.0    1.0     1.0     0.0  68.0       2018-04-26      M   70000.0   \n",
       "5     5.0  1.0    1.0     1.0     1.0  65.0       2018-02-09      M   53000.0   \n",
       "7     0.0  1.0    1.0     1.0     0.0  58.0       2017-11-11      M   51000.0   \n",
       "8     5.0  1.0    1.0     0.0     0.0  61.0       2017-09-11      F   57000.0   \n",
       "\n",
       "  age_group income_group  \n",
       "0       70+     90k-120k  \n",
       "2     60-69      60k-90k  \n",
       "5     60-69      30k-60k  \n",
       "7     50-59      30k-60k  \n",
       "8     60-69      30k-60k  "
      ]
     },
     "execution_count": 63,
     "metadata": {},
     "output_type": "execute_result"
    }
   ],
   "source": [
    "merged_data.head()"
   ]
  },
  {
   "cell_type": "code",
   "execution_count": 64,
   "metadata": {},
   "outputs": [],
   "source": [
    "# Apply one-hot encoding to the 'gender' column\n",
    "merged_data = pd.get_dummies(merged_data, columns=['gender','offer_type'])\n"
   ]
  },
  {
   "cell_type": "code",
   "execution_count": null,
   "metadata": {},
   "outputs": [],
   "source": []
  },
  {
   "cell_type": "code",
   "execution_count": 65,
   "metadata": {},
   "outputs": [
    {
     "data": {
      "text/html": [
       "<div>\n",
       "<style scoped>\n",
       "    .dataframe tbody tr th:only-of-type {\n",
       "        vertical-align: middle;\n",
       "    }\n",
       "\n",
       "    .dataframe tbody tr th {\n",
       "        vertical-align: top;\n",
       "    }\n",
       "\n",
       "    .dataframe thead th {\n",
       "        text-align: right;\n",
       "    }\n",
       "</style>\n",
       "<table border=\"1\" class=\"dataframe\">\n",
       "  <thead>\n",
       "    <tr style=\"text-align: right;\">\n",
       "      <th></th>\n",
       "      <th>event</th>\n",
       "      <th>person</th>\n",
       "      <th>time</th>\n",
       "      <th>offer_id</th>\n",
       "      <th>difficulty</th>\n",
       "      <th>duration</th>\n",
       "      <th>reward</th>\n",
       "      <th>web</th>\n",
       "      <th>email</th>\n",
       "      <th>mobile</th>\n",
       "      <th>...</th>\n",
       "      <th>became_member_on</th>\n",
       "      <th>income</th>\n",
       "      <th>age_group</th>\n",
       "      <th>income_group</th>\n",
       "      <th>gender_F</th>\n",
       "      <th>gender_M</th>\n",
       "      <th>gender_O</th>\n",
       "      <th>offer_type_bogo</th>\n",
       "      <th>offer_type_discount</th>\n",
       "      <th>offer_type_informational</th>\n",
       "    </tr>\n",
       "  </thead>\n",
       "  <tbody>\n",
       "    <tr>\n",
       "      <th>0</th>\n",
       "      <td>offer received</td>\n",
       "      <td>78afa995795e4d85b5d9ceeca43f5fef</td>\n",
       "      <td>0</td>\n",
       "      <td>9b98b8c7a33c4b65b9aebfe6a799e6d9</td>\n",
       "      <td>5.0</td>\n",
       "      <td>7.0</td>\n",
       "      <td>5.0</td>\n",
       "      <td>1.0</td>\n",
       "      <td>1.0</td>\n",
       "      <td>1.0</td>\n",
       "      <td>...</td>\n",
       "      <td>2017-05-09</td>\n",
       "      <td>100000.0</td>\n",
       "      <td>70+</td>\n",
       "      <td>90k-120k</td>\n",
       "      <td>1</td>\n",
       "      <td>0</td>\n",
       "      <td>0</td>\n",
       "      <td>1</td>\n",
       "      <td>0</td>\n",
       "      <td>0</td>\n",
       "    </tr>\n",
       "    <tr>\n",
       "      <th>2</th>\n",
       "      <td>offer received</td>\n",
       "      <td>e2127556f4f64592b11af22de27a7932</td>\n",
       "      <td>0</td>\n",
       "      <td>2906b810c7d4411798c6938adc9daaa5</td>\n",
       "      <td>10.0</td>\n",
       "      <td>7.0</td>\n",
       "      <td>2.0</td>\n",
       "      <td>1.0</td>\n",
       "      <td>1.0</td>\n",
       "      <td>1.0</td>\n",
       "      <td>...</td>\n",
       "      <td>2018-04-26</td>\n",
       "      <td>70000.0</td>\n",
       "      <td>60-69</td>\n",
       "      <td>60k-90k</td>\n",
       "      <td>0</td>\n",
       "      <td>1</td>\n",
       "      <td>0</td>\n",
       "      <td>0</td>\n",
       "      <td>1</td>\n",
       "      <td>0</td>\n",
       "    </tr>\n",
       "    <tr>\n",
       "      <th>5</th>\n",
       "      <td>offer received</td>\n",
       "      <td>389bc3fa690240e798340f5a15918d5c</td>\n",
       "      <td>0</td>\n",
       "      <td>f19421c1d4aa40978ebb69ca19b0e20d</td>\n",
       "      <td>5.0</td>\n",
       "      <td>5.0</td>\n",
       "      <td>5.0</td>\n",
       "      <td>1.0</td>\n",
       "      <td>1.0</td>\n",
       "      <td>1.0</td>\n",
       "      <td>...</td>\n",
       "      <td>2018-02-09</td>\n",
       "      <td>53000.0</td>\n",
       "      <td>60-69</td>\n",
       "      <td>30k-60k</td>\n",
       "      <td>0</td>\n",
       "      <td>1</td>\n",
       "      <td>0</td>\n",
       "      <td>1</td>\n",
       "      <td>0</td>\n",
       "      <td>0</td>\n",
       "    </tr>\n",
       "    <tr>\n",
       "      <th>7</th>\n",
       "      <td>offer received</td>\n",
       "      <td>2eeac8d8feae4a8cad5a6af0499a211d</td>\n",
       "      <td>0</td>\n",
       "      <td>3f207df678b143eea3cee63160fa8bed</td>\n",
       "      <td>0.0</td>\n",
       "      <td>4.0</td>\n",
       "      <td>0.0</td>\n",
       "      <td>1.0</td>\n",
       "      <td>1.0</td>\n",
       "      <td>1.0</td>\n",
       "      <td>...</td>\n",
       "      <td>2017-11-11</td>\n",
       "      <td>51000.0</td>\n",
       "      <td>50-59</td>\n",
       "      <td>30k-60k</td>\n",
       "      <td>0</td>\n",
       "      <td>1</td>\n",
       "      <td>0</td>\n",
       "      <td>0</td>\n",
       "      <td>0</td>\n",
       "      <td>1</td>\n",
       "    </tr>\n",
       "    <tr>\n",
       "      <th>8</th>\n",
       "      <td>offer received</td>\n",
       "      <td>aa4862eba776480b8bb9c68455b8c2e1</td>\n",
       "      <td>0</td>\n",
       "      <td>0b1e1539f2cc45b7b9fa7c272da2e1d7</td>\n",
       "      <td>20.0</td>\n",
       "      <td>10.0</td>\n",
       "      <td>5.0</td>\n",
       "      <td>1.0</td>\n",
       "      <td>1.0</td>\n",
       "      <td>0.0</td>\n",
       "      <td>...</td>\n",
       "      <td>2017-09-11</td>\n",
       "      <td>57000.0</td>\n",
       "      <td>60-69</td>\n",
       "      <td>30k-60k</td>\n",
       "      <td>1</td>\n",
       "      <td>0</td>\n",
       "      <td>0</td>\n",
       "      <td>0</td>\n",
       "      <td>1</td>\n",
       "      <td>0</td>\n",
       "    </tr>\n",
       "  </tbody>\n",
       "</table>\n",
       "<p>5 rows × 22 columns</p>\n",
       "</div>"
      ],
      "text/plain": [
       "            event                            person  time  \\\n",
       "0  offer received  78afa995795e4d85b5d9ceeca43f5fef     0   \n",
       "2  offer received  e2127556f4f64592b11af22de27a7932     0   \n",
       "5  offer received  389bc3fa690240e798340f5a15918d5c     0   \n",
       "7  offer received  2eeac8d8feae4a8cad5a6af0499a211d     0   \n",
       "8  offer received  aa4862eba776480b8bb9c68455b8c2e1     0   \n",
       "\n",
       "                           offer_id  difficulty  duration  reward  web  email  \\\n",
       "0  9b98b8c7a33c4b65b9aebfe6a799e6d9         5.0       7.0     5.0  1.0    1.0   \n",
       "2  2906b810c7d4411798c6938adc9daaa5        10.0       7.0     2.0  1.0    1.0   \n",
       "5  f19421c1d4aa40978ebb69ca19b0e20d         5.0       5.0     5.0  1.0    1.0   \n",
       "7  3f207df678b143eea3cee63160fa8bed         0.0       4.0     0.0  1.0    1.0   \n",
       "8  0b1e1539f2cc45b7b9fa7c272da2e1d7        20.0      10.0     5.0  1.0    1.0   \n",
       "\n",
       "   mobile            ...             became_member_on    income age_group  \\\n",
       "0     1.0            ...                   2017-05-09  100000.0       70+   \n",
       "2     1.0            ...                   2018-04-26   70000.0     60-69   \n",
       "5     1.0            ...                   2018-02-09   53000.0     60-69   \n",
       "7     1.0            ...                   2017-11-11   51000.0     50-59   \n",
       "8     0.0            ...                   2017-09-11   57000.0     60-69   \n",
       "\n",
       "   income_group gender_F gender_M  gender_O  offer_type_bogo  \\\n",
       "0      90k-120k        1        0         0                1   \n",
       "2       60k-90k        0        1         0                0   \n",
       "5       30k-60k        0        1         0                1   \n",
       "7       30k-60k        0        1         0                0   \n",
       "8       30k-60k        1        0         0                0   \n",
       "\n",
       "   offer_type_discount  offer_type_informational  \n",
       "0                    0                         0  \n",
       "2                    1                         0  \n",
       "5                    0                         0  \n",
       "7                    0                         1  \n",
       "8                    1                         0  \n",
       "\n",
       "[5 rows x 22 columns]"
      ]
     },
     "execution_count": 65,
     "metadata": {},
     "output_type": "execute_result"
    }
   ],
   "source": [
    "merged_data.head()"
   ]
  },
  {
   "cell_type": "code",
   "execution_count": 66,
   "metadata": {},
   "outputs": [
    {
     "data": {
      "text/plain": [
       "event                               object\n",
       "person                              object\n",
       "time                                 int64\n",
       "offer_id                            object\n",
       "difficulty                         float64\n",
       "duration                           float64\n",
       "reward                             float64\n",
       "web                                float64\n",
       "email                              float64\n",
       "mobile                             float64\n",
       "social                             float64\n",
       "age                                float64\n",
       "became_member_on            datetime64[ns]\n",
       "income                             float64\n",
       "age_group                         category\n",
       "income_group                      category\n",
       "gender_F                             uint8\n",
       "gender_M                             uint8\n",
       "gender_O                             uint8\n",
       "offer_type_bogo                      uint8\n",
       "offer_type_discount                  uint8\n",
       "offer_type_informational             uint8\n",
       "dtype: object"
      ]
     },
     "execution_count": 66,
     "metadata": {},
     "output_type": "execute_result"
    }
   ],
   "source": [
    "merged_data.dtypes"
   ]
  },
  {
   "cell_type": "code",
   "execution_count": 67,
   "metadata": {},
   "outputs": [
    {
     "data": {
      "text/plain": [
       "event                       0\n",
       "person                      0\n",
       "time                        0\n",
       "offer_id                    0\n",
       "difficulty                  0\n",
       "duration                    0\n",
       "reward                      0\n",
       "web                         0\n",
       "email                       0\n",
       "mobile                      0\n",
       "social                      0\n",
       "age                         0\n",
       "became_member_on            0\n",
       "income                      0\n",
       "age_group                   0\n",
       "income_group                0\n",
       "gender_F                    0\n",
       "gender_M                    0\n",
       "gender_O                    0\n",
       "offer_type_bogo             0\n",
       "offer_type_discount         0\n",
       "offer_type_informational    0\n",
       "dtype: int64"
      ]
     },
     "execution_count": 67,
     "metadata": {},
     "output_type": "execute_result"
    }
   ],
   "source": [
    "merged_data.isnull().sum()"
   ]
  },
  {
   "cell_type": "code",
   "execution_count": 68,
   "metadata": {},
   "outputs": [],
   "source": [
    "from sklearn.model_selection import train_test_split\n",
    "from sklearn.ensemble import RandomForestClassifier\n",
    "from sklearn.metrics import accuracy_score, classification_report, confusion_matrix\n",
    "from sklearn.preprocessing import StandardScaler\n",
    "\n",
    "# Define features and target variable\n",
    "features = ['difficulty', 'duration', 'reward', 'web', 'email', 'mobile', 'social', 'age', 'income', 'gender_F', 'gender_M', 'gender_O', 'offer_type_bogo', 'offer_type_discount', 'offer_type_informational']\n",
    "target = 'event'  # Assuming 'event' is the target variable\n",
    "\n",
    "# Create a binary target variable indicating offer success\n",
    "merged_data['offer_success'] = (merged_data['event'] == 'offer completed').astype(int)\n",
    "\n",
    "# Separate numerical and categorical features\n",
    "numeric_features = ['difficulty', 'duration', 'reward', 'age', 'income']\n",
    "\n",
    "\n"
   ]
  },
  {
   "cell_type": "code",
   "execution_count": 69,
   "metadata": {},
   "outputs": [
    {
     "name": "stdout",
     "output_type": "stream",
     "text": [
      "Accuracy: 0.67\n",
      "\n",
      "Classification Report:\n",
      "             precision    recall  f1-score   support\n",
      "\n",
      "          0       0.76      0.85      0.80     23264\n",
      "          1       0.03      0.01      0.02      6412\n",
      "\n",
      "avg / total       0.60      0.67      0.63     29676\n",
      "\n",
      "\n",
      "Confusion Matrix:\n",
      "[[19774  3490]\n",
      " [ 6322    90]]\n"
     ]
    }
   ],
   "source": [
    "# Select features and target variable\n",
    "X = merged_data[features]\n",
    "y = merged_data['offer_success']\n",
    "\n",
    "# Split the data into training and testing sets\n",
    "X_train, X_test, y_train, y_test = train_test_split(X, y, test_size=0.2, random_state=42, stratify=y)\n",
    "\n",
    "# Create and train a RandomForestClassifier\n",
    "model = RandomForestClassifier(random_state=42)\n",
    "model.fit(X_train, y_train)\n",
    "\n",
    "# Make predictions\n",
    "y_pred = model.predict(X_test)\n",
    "\n",
    "# Evaluate the model\n",
    "accuracy = accuracy_score(y_test, y_pred)\n",
    "classification_rep = classification_report(y_test, y_pred)\n",
    "confusion_mat = confusion_matrix(y_test, y_pred)\n",
    "\n",
    "# Display evaluation metrics\n",
    "print(f'Accuracy: {accuracy:.2f}')\n",
    "print('\\nClassification Report:')\n",
    "print(classification_rep)\n",
    "print('\\nConfusion Matrix:')\n",
    "print(confusion_mat)"
   ]
  },
  {
   "cell_type": "code",
   "execution_count": 70,
   "metadata": {},
   "outputs": [
    {
     "data": {
      "text/plain": [
       "offer received     66478\n",
       "offer viewed       49844\n",
       "offer completed    32058\n",
       "Name: event, dtype: int64"
      ]
     },
     "execution_count": 70,
     "metadata": {},
     "output_type": "execute_result"
    }
   ],
   "source": [
    "merged_data.event.value_counts()"
   ]
  },
  {
   "cell_type": "code",
   "execution_count": 71,
   "metadata": {},
   "outputs": [
    {
     "data": {
      "text/plain": [
       "transaction        138953\n",
       "offer received      76277\n",
       "offer viewed        57725\n",
       "offer completed     33182\n",
       "Name: event, dtype: int64"
      ]
     },
     "execution_count": 71,
     "metadata": {},
     "output_type": "execute_result"
    }
   ],
   "source": [
    "transcript.event.value_counts()"
   ]
  },
  {
   "cell_type": "code",
   "execution_count": 72,
   "metadata": {},
   "outputs": [
    {
     "data": {
      "text/plain": [
       "0    116322\n",
       "1     32058\n",
       "Name: offer_success, dtype: int64"
      ]
     },
     "execution_count": 72,
     "metadata": {},
     "output_type": "execute_result"
    }
   ],
   "source": [
    "merged_data['offer_success'].value_counts()"
   ]
  },
  {
   "cell_type": "code",
   "execution_count": 73,
   "metadata": {},
   "outputs": [
    {
     "name": "stdout",
     "output_type": "stream",
     "text": [
      "Feature Importance:\n",
      "difficulty: 0.0199\n",
      "duration: 0.0293\n",
      "reward: 0.0491\n",
      "web: 0.0039\n",
      "email: 0.0000\n",
      "mobile: 0.0002\n",
      "social: 0.0027\n",
      "age: 0.4617\n",
      "income: 0.3900\n",
      "gender_F: 0.0054\n",
      "gender_M: 0.0025\n",
      "gender_O: 0.0008\n",
      "offer_type_bogo: 0.0097\n",
      "offer_type_discount: 0.0095\n",
      "offer_type_informational: 0.0153\n"
     ]
    }
   ],
   "source": [
    "# Print feature importance\n",
    "feature_importance = model.feature_importances_\n",
    "print(\"Feature Importance:\")\n",
    "for feature, importance in zip(features, feature_importance):\n",
    "    print(f\"{feature}: {importance:.4f}\")"
   ]
  },
  {
   "cell_type": "code",
   "execution_count": null,
   "metadata": {},
   "outputs": [],
   "source": []
  }
 ],
 "metadata": {
  "kernelspec": {
   "display_name": "Python 3",
   "language": "python",
   "name": "python3"
  },
  "language_info": {
   "codemirror_mode": {
    "name": "ipython",
    "version": 3
   },
   "file_extension": ".py",
   "mimetype": "text/x-python",
   "name": "python",
   "nbconvert_exporter": "python",
   "pygments_lexer": "ipython3",
   "version": "3.6.3"
  }
 },
 "nbformat": 4,
 "nbformat_minor": 2
}
